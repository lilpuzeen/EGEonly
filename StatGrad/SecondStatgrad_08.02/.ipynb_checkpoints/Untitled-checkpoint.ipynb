{
 "cells": [
  {
   "cell_type": "code",
   "execution_count": null,
   "id": "2917bb1c",
   "metadata": {},
   "outputs": [],
   "source": [
    "print(\"x y z w\")\n",
    "for x in range(2):\n",
    "    for y in range(2):\n",
    "        for z in range(2):\n",
    "            for w in range(2):\n",
    "                if ((x == (y <= z)) and ((not(w)) <= (x == y))):\n",
    "                    print(x, y, z, w)\n",
    "# ywzx"
   ]
  },
  {
   "cell_type": "code",
   "execution_count": null,
   "id": "f9943cb1",
   "metadata": {},
   "outputs": [],
   "source": [
    "for i in range(1000):\n",
    "    count1 = 0\n",
    "    count0 = 0\n",
    "    n = bin(i)[2:]\n",
    "    digit = list(n)\n",
    "    for y in range(len(digit)):\n",
    "        if (digit[y] == \"1\") and (digit.index(digit[y], y, len(digit)) % 2 != 0):\n",
    "            count1 += 1\n",
    "        elif (digit[y] == \"0\") and (digit.index(digit[y], y, len(digit)) % 2 == 0):\n",
    "            count0 += 1\n",
    "    result = abs(count1 - count0)\n",
    "    if result == 4:\n",
    "        print(i)\n",
    "        break"
   ]
  },
  {
   "cell_type": "code",
   "execution_count": null,
   "id": "d8d98de2",
   "metadata": {},
   "outputs": [],
   "source": [
    "bin(255)[2:]"
   ]
  },
  {
   "cell_type": "code",
   "execution_count": 34,
   "id": "a4ce12ea",
   "metadata": {},
   "outputs": [
    {
     "data": {
      "text/plain": [
       "192"
      ]
     },
     "execution_count": 34,
     "metadata": {},
     "output_type": "execute_result"
    }
   ],
   "source": [
    "from itertools import *\n",
    "\n",
    "wrong = []\n",
    "for x in product(\"ПРБЛ\", repeat=2):\n",
    "    wrong.append(\"\".join(x))\n",
    "wrong += [\"АА\", \"ОО\", \"АО\", \"ОА\"]\n",
    "\n",
    "count = 0\n",
    "for x in set(permutations(\"ПАРАБОЛА\")):\n",
    "    s = \"\".join(x)\n",
    "    if all(c not in s for c in wrong):\n",
    "        count += 1\n",
    "count"
   ]
  },
  {
   "cell_type": "code",
   "execution_count": null,
   "id": "c1d5b3f9",
   "metadata": {},
   "outputs": [],
   "source": [
    "from itertools import product\n",
    "list(product([\"П\", \"Р\", \"Б\", \"Л\"], repeat=2))"
   ]
  },
  {
   "cell_type": "code",
   "execution_count": 35,
   "id": "7154b6c2",
   "metadata": {},
   "outputs": [
    {
     "data": {
      "text/plain": [
       "14.0"
      ]
     },
     "execution_count": 35,
     "metadata": {},
     "output_type": "execute_result"
    }
   ],
   "source": [
    "def f(x, a1, a2):\n",
    "    P = 69 <= x <= 91\n",
    "    Q = 77 <= x <= 114\n",
    "    A = a1 <= x <= a2\n",
    "    return P <= ((not(P==Q)) or (Q<=A))\n",
    "\n",
    "m = float(\"inf\")\n",
    "for a1 in range(1000):\n",
    "    for a2 in range(1000):\n",
    "        if all(f(x/4, a1/4, a2/4) == 1 for x in range(1000)):\n",
    "            m = min(m, (a2-a1)/4)\n",
    "            break\n",
    "m"
   ]
  },
  {
   "cell_type": "code",
   "execution_count": null,
   "id": "566db1c7",
   "metadata": {},
   "outputs": [],
   "source": []
  }
 ],
 "metadata": {
  "kernelspec": {
   "display_name": "Python 3 (ipykernel)",
   "language": "python",
   "name": "python3"
  },
  "language_info": {
   "codemirror_mode": {
    "name": "ipython",
    "version": 3
   },
   "file_extension": ".py",
   "mimetype": "text/x-python",
   "name": "python",
   "nbconvert_exporter": "python",
   "pygments_lexer": "ipython3",
   "version": "3.10.2"
  }
 },
 "nbformat": 4,
 "nbformat_minor": 5
}
