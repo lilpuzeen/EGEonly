{
 "cells": [
  {
   "cell_type": "code",
   "execution_count": 3,
   "id": "a2a3c6dd-b1ac-496c-824e-8ad98727c916",
   "metadata": {},
   "outputs": [
    {
     "data": {
      "text/plain": [
       "45"
      ]
     },
     "execution_count": 3,
     "metadata": {},
     "output_type": "execute_result"
    }
   ],
   "source": [
    "def f(n):\n",
    "    if n > 2:\n",
    "        return f(n-1) + f(n-2)\n",
    "    if n <= 2:\n",
    "        return n + 4\n",
    "f(6)"
   ]
  },
  {
   "cell_type": "code",
   "execution_count": 4,
   "id": "1162992e",
   "metadata": {},
   "outputs": [
    {
     "data": {
      "text/plain": [
       "240"
      ]
     },
     "execution_count": 4,
     "metadata": {},
     "output_type": "execute_result"
    }
   ],
   "source": [
    "def f(n):\n",
    "    if n >= 2:\n",
    "        return f(n-1) * n\n",
    "    if n == 1:\n",
    "        return 2\n",
    "f(5)"
   ]
  },
  {
   "cell_type": "code",
   "execution_count": 5,
   "id": "487636df",
   "metadata": {},
   "outputs": [
    {
     "name": "stdout",
     "output_type": "stream",
     "text": [
      "161 9.0\n"
     ]
    }
   ],
   "source": [
    "def f(n):\n",
    "    if n == 0:\n",
    "        return 0\n",
    "    if (n > 0) and (n % 3 == 0):\n",
    "        return f(n/3)\n",
    "    if n % 3 > 0:\n",
    "        return (n % 3) + f(n - (n % 3))\n",
    "for i in range(1000):\n",
    "    if f(i) == 9:\n",
    "        print(i, f(i))\n",
    "        break"
   ]
  },
  {
   "cell_type": "code",
   "execution_count": 6,
   "id": "e5f1c97d",
   "metadata": {},
   "outputs": [
    {
     "data": {
      "text/plain": [
       "60"
      ]
     },
     "execution_count": 6,
     "metadata": {},
     "output_type": "execute_result"
    }
   ],
   "source": [
    "def f(n):\n",
    "    if n == 1:\n",
    "        return 1\n",
    "    if n > 1:\n",
    "        return f(n-1)*(n+1)\n",
    "f(4)"
   ]
  },
  {
   "cell_type": "code",
   "execution_count": 7,
   "id": "5bf83736",
   "metadata": {},
   "outputs": [
    {
     "data": {
      "text/plain": [
       "360"
      ]
     },
     "execution_count": 7,
     "metadata": {},
     "output_type": "execute_result"
    }
   ],
   "source": [
    "def f(n):\n",
    "    if n == 1:\n",
    "        return 1\n",
    "    if n > 1:\n",
    "        return f(n-1)*(n+1)\n",
    "f(5)"
   ]
  },
  {
   "cell_type": "code",
   "execution_count": 8,
   "id": "ea8c265a",
   "metadata": {},
   "outputs": [
    {
     "data": {
      "text/plain": [
       "106"
      ]
     },
     "execution_count": 8,
     "metadata": {},
     "output_type": "execute_result"
    }
   ],
   "source": [
    "def f(n):\n",
    "    if n == 0:\n",
    "        return 0\n",
    "    if (n > 0) and (n % 3 == 0):\n",
    "        return n + f(n-3)\n",
    "    if n % 3 > 0:\n",
    "        return n + f(n - (n % 3))\n",
    "f(22)"
   ]
  },
  {
   "cell_type": "code",
   "execution_count": 9,
   "id": "330c5d30",
   "metadata": {},
   "outputs": [
    {
     "data": {
      "text/plain": [
       "44"
      ]
     },
     "execution_count": 9,
     "metadata": {},
     "output_type": "execute_result"
    }
   ],
   "source": [
    "def f(n):\n",
    "    if n == 1:\n",
    "        return 1\n",
    "    if n == 2:\n",
    "        return 1\n",
    "    if n > 2:\n",
    "        return f(n-1)*n-2*f(n-2)\n",
    "f(6)"
   ]
  },
  {
   "cell_type": "code",
   "execution_count": 10,
   "id": "0c289eb6",
   "metadata": {},
   "outputs": [
    {
     "data": {
      "text/plain": [
       "20"
      ]
     },
     "execution_count": 10,
     "metadata": {},
     "output_type": "execute_result"
    }
   ],
   "source": [
    "def f(n):\n",
    "    if n == 1:\n",
    "        return 1\n",
    "    if n > 1:\n",
    "        return f(n-1)*f(n-1)-f(n-1)*n+2*n\n",
    "f(4)"
   ]
  },
  {
   "cell_type": "code",
   "execution_count": 11,
   "id": "06d18df9",
   "metadata": {},
   "outputs": [
    {
     "data": {
      "text/plain": [
       "59"
      ]
     },
     "execution_count": 11,
     "metadata": {},
     "output_type": "execute_result"
    }
   ],
   "source": [
    "def f(n):\n",
    "    if n == 1:\n",
    "        return 1\n",
    "    if n == 2:\n",
    "        return 3\n",
    "    if n > 2:\n",
    "        return f(n-1)*f(n-2)+(n-2)\n",
    "f(5)"
   ]
  },
  {
   "cell_type": "code",
   "execution_count": 13,
   "id": "7af3a602",
   "metadata": {},
   "outputs": [
    {
     "data": {
      "text/plain": [
       "63"
      ]
     },
     "execution_count": 13,
     "metadata": {},
     "output_type": "execute_result"
    }
   ],
   "source": [
    "def f(n):\n",
    "    if n == 1:\n",
    "        return 1\n",
    "    if n > 1:\n",
    "        return 2*f(n-1)+1\n",
    "f(6)"
   ]
  }
 ],
 "metadata": {
  "kernelspec": {
   "display_name": "Python 3 (ipykernel)",
   "language": "python",
   "name": "python3"
  },
  "language_info": {
   "codemirror_mode": {
    "name": "ipython",
    "version": 3
   },
   "file_extension": ".py",
   "mimetype": "text/x-python",
   "name": "python",
   "nbconvert_exporter": "python",
   "pygments_lexer": "ipython3",
   "version": "3.9.5"
  }
 },
 "nbformat": 4,
 "nbformat_minor": 5
}
