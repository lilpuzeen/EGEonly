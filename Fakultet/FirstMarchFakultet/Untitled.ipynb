{
 "cells": [
  {
   "cell_type": "code",
   "execution_count": null,
   "id": "fda620d8",
   "metadata": {},
   "outputs": [],
   "source": [
    "# 2\n",
    "print(\"x y z w\")\n",
    "for x in range(2):\n",
    "    for y in range(2):\n",
    "        for z in range(2):\n",
    "            for w in range(2):\n",
    "                if (((y <= z) or (not(x) and w)) == (w == z)):\n",
    "                    print(x, y, z, w)"
   ]
  },
  {
   "cell_type": "code",
   "execution_count": null,
   "id": "46bfcc97",
   "metadata": {},
   "outputs": [],
   "source": [
    "# 5\n",
    "for i in range(10_000, 100_000):\n",
    "    arr = [int(x) for x in list(str(i))]\n",
    "    a = arr[0] + arr[2] + arr[4]\n",
    "    b = arr[1] + arr[3]\n",
    "    result = [str(x) for x in sorted([a, b])]\n",
    "    r = \"\".join(result)\n",
    "    if r == \"723\":\n",
    "        print(i)"
   ]
  },
  {
   "cell_type": "code",
   "execution_count": 12,
   "id": "b38df7b3",
   "metadata": {},
   "outputs": [
    {
     "name": "stdout",
     "output_type": "stream",
     "text": [
      "210\n"
     ]
    }
   ],
   "source": [
    "# 6\n",
    "n = 1\n",
    "s = 0\n",
    "while n <= 100:\n",
    "    s = s + 30\n",
    "    n = n * 2\n",
    "print(s)"
   ]
  },
  {
   "cell_type": "code",
   "execution_count": 15,
   "id": "c1b3a823",
   "metadata": {},
   "outputs": [
    {
     "data": {
      "text/plain": [
       "48"
      ]
     },
     "execution_count": 15,
     "metadata": {},
     "output_type": "execute_result"
    }
   ],
   "source": [
    "# 8\n",
    "from itertools import permutations\n",
    "letters = [\"О\", \"Л\", \"Ь\", \"Г\", \"А\"]\n",
    "arr = list(permutations(letters, r=5))\n",
    "arr = list(filter(lambda x: x[0] != \"Ь\" and (\"ОЬ\" not in \"\".join(x)) and (\"АЬ\" not in \"\".join(x)), arr))\n",
    "len(arr)"
   ]
  },
  {
   "cell_type": "code",
   "execution_count": 18,
   "id": "11c00290",
   "metadata": {},
   "outputs": [
    {
     "name": "stdout",
     "output_type": "stream",
     "text": [
      "100 1100100\n",
      "200 11001000\n",
      "300 100101100\n",
      "400 110010000\n",
      "500 111110100\n",
      "600 1001011000\n",
      "700 1010111100\n",
      "800 1100100000\n",
      "900 1110000100\n",
      "999 1111100111\n"
     ]
    }
   ],
   "source": [
    "for i in range(100, 1000, 100):\n",
    "    print(i, bin(i)[2:])\n",
    "print(999, bin(999)[2:])"
   ]
  },
  {
   "cell_type": "code",
   "execution_count": 19,
   "id": "70672afa",
   "metadata": {},
   "outputs": [
    {
     "data": {
      "text/plain": [
       "'12111'"
      ]
     },
     "execution_count": 19,
     "metadata": {},
     "output_type": "execute_result"
    }
   ],
   "source": [
    "# 12\n",
    "s = \"1\" * 101\n",
    "while \"1111\" in s:\n",
    "    s = s.replace(\"1111\", \"22\", 1)\n",
    "    s = s.replace(\"222\", \"1\", 1)\n",
    "s"
   ]
  },
  {
   "cell_type": "code",
   "execution_count": 21,
   "id": "fdbb36b5",
   "metadata": {},
   "outputs": [
    {
     "name": "stdout",
     "output_type": "stream",
     "text": [
      "14\n"
     ]
    }
   ],
   "source": [
    "# 14\n",
    "def calc(x, a, b):\n",
    "    s = \"\"\n",
    "    x = int(str(x), a)\n",
    "    while x > 0:\n",
    "        s += str(x % b)\n",
    "        x //= b\n",
    "    return s[::-1]\n",
    "\n",
    "a = 2*216**6 + 3*36**9 - 432\n",
    "print(calc(a, 10, 6).count(\"5\"))"
   ]
  },
  {
   "cell_type": "code",
   "execution_count": 22,
   "id": "b95d01a0",
   "metadata": {},
   "outputs": [
    {
     "name": "stdout",
     "output_type": "stream",
     "text": [
      "4\n",
      "7\n",
      "2\n",
      "5\n",
      "1\n",
      "4\n",
      "7\n"
     ]
    }
   ],
   "source": [
    "# 16\n",
    "def f(n):\n",
    "    if n < 8:\n",
    "        f(2*n)\n",
    "        print(n)\n",
    "        f(n+3)\n",
    "f(1)"
   ]
  },
  {
   "cell_type": "code",
   "execution_count": 23,
   "id": "ac6bf145",
   "metadata": {},
   "outputs": [
    {
     "data": {
      "text/plain": [
       "(12749665, 19989)"
      ]
     },
     "execution_count": 23,
     "metadata": {},
     "output_type": "execute_result"
    }
   ],
   "source": [
    "# 17\n",
    "arr = [int(x) for x in open(\"17-2.txt\").readlines()]\n",
    "d = 160\n",
    "p = 7\n",
    "count = 0\n",
    "maxx = -100000000\n",
    "for i in range(len(arr)):\n",
    "    a = arr[i]\n",
    "    for j in range(i + 1, len(arr)):\n",
    "        b = arr[j]\n",
    "        if ((a % d) != (b % d)) and ((a % p == 0) or (b % p == 0)):\n",
    "            count += 1\n",
    "            if (a + b) > maxx:\n",
    "                maxx = a + b\n",
    "count, maxx"
   ]
  },
  {
   "cell_type": "code",
   "execution_count": 28,
   "id": "89065984",
   "metadata": {},
   "outputs": [
    {
     "name": "stdout",
     "output_type": "stream",
     "text": [
      "131079601 1225043\n",
      "141158161 1295029\n",
      "163047361 1442897\n"
     ]
    }
   ],
   "source": [
    "def p(x):\n",
    "    return x > 1 and all(x % i != 0 for i in range(2, int(x**0.5) + 1))\n",
    "\n",
    "\n",
    "def div(x):\n",
    "    d = set()\n",
    "    for i in range(2, int(x**0.5) + 1):\n",
    "        if x % i == 0:\n",
    "            d |= {i, x // i}\n",
    "    return sorted(d)\n",
    "\n",
    "\n",
    "for i in range(105, 123):\n",
    "    if p(i):\n",
    "        print(i**4, div(i**4)[-1])\n"
   ]
  },
  {
   "cell_type": "code",
   "execution_count": 26,
   "id": "8acb43c6",
   "metadata": {},
   "outputs": [
    {
     "data": {
      "text/plain": [
       "105.40925509913993"
      ]
     },
     "execution_count": 26,
     "metadata": {},
     "output_type": "execute_result"
    }
   ],
   "source": [
    "123456789**0.25"
   ]
  },
  {
   "cell_type": "code",
   "execution_count": 27,
   "id": "138edc93",
   "metadata": {},
   "outputs": [
    {
     "data": {
      "text/plain": [
       "122.26394041514278"
      ]
     },
     "execution_count": 27,
     "metadata": {},
     "output_type": "execute_result"
    }
   ],
   "source": [
    "223456789**0.25"
   ]
  },
  {
   "cell_type": "code",
   "execution_count": null,
   "id": "d2caa712",
   "metadata": {},
   "outputs": [],
   "source": []
  }
 ],
 "metadata": {
  "kernelspec": {
   "display_name": "Python 3 (ipykernel)",
   "language": "python",
   "name": "python3"
  },
  "language_info": {
   "codemirror_mode": {
    "name": "ipython",
    "version": 3
   },
   "file_extension": ".py",
   "mimetype": "text/x-python",
   "name": "python",
   "nbconvert_exporter": "python",
   "pygments_lexer": "ipython3",
   "version": "3.10.2"
  }
 },
 "nbformat": 4,
 "nbformat_minor": 5
}
