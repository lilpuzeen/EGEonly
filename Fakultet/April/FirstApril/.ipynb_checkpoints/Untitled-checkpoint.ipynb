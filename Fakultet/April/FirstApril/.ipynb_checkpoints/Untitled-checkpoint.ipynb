{
 "cells": [
  {
   "cell_type": "code",
   "execution_count": null,
   "id": "4a20965b",
   "metadata": {},
   "outputs": [],
   "source": [
    "14*3"
   ]
  },
  {
   "cell_type": "code",
   "execution_count": null,
   "id": "c3e745c8",
   "metadata": {},
   "outputs": [],
   "source": [
    "13*3"
   ]
  },
  {
   "cell_type": "code",
   "execution_count": null,
   "id": "bddbb6df",
   "metadata": {},
   "outputs": [],
   "source": [
    "print(\"x y z\")\n",
    "for x in range(2):\n",
    "    for y in range(2):\n",
    "        for z in range(2):\n",
    "            if ((x and z) or (x and (not y) and (not z))):\n",
    "                print(x, y, z)"
   ]
  },
  {
   "cell_type": "code",
   "execution_count": null,
   "id": "2b03fc53",
   "metadata": {},
   "outputs": [],
   "source": [
    "count = 0\n",
    "for i in range(100, 1000):\n",
    "    n = str(i)\n",
    "    res = [int(n[0]) + int(n[1]), int(n[1]) + int(n[2])]\n",
    "    res = sorted(res)[::-1]\n",
    "    if res[0] == 17 and res[1] == 15:\n",
    "        count += 1\n",
    "count"
   ]
  },
  {
   "cell_type": "code",
   "execution_count": null,
   "id": "77d648ce",
   "metadata": {},
   "outputs": [],
   "source": [
    "s = 0\n",
    "n = 0\n",
    "while 3 * s < 111:\n",
    "    s = s + 8\n",
    "    n = n + 2\n",
    "print(n)"
   ]
  },
  {
   "cell_type": "code",
   "execution_count": null,
   "id": "9ad47fe5",
   "metadata": {},
   "outputs": [],
   "source": [
    "from itertools import product\n",
    "\n",
    "lets = ['A', 'B', 'C', 'D', 'X']\n",
    "arr = list(filter(lambda x: x.count(\"X\") == 1, list(product(lets, repeat=4))))\n",
    "len(arr)"
   ]
  },
  {
   "cell_type": "code",
   "execution_count": null,
   "id": "6596892e",
   "metadata": {},
   "outputs": [],
   "source": [
    "def calc(x, a, b):\n",
    "    s = \"\"\n",
    "    x = int(str(x), a)\n",
    "    while x > 0:\n",
    "        s += str(x % b)\n",
    "        x //= b\n",
    "    return s[::-1]\n",
    "\n",
    "\n",
    "for i in range(2, 100):\n",
    "    a = calc(41, 10, i)\n",
    "    b = calc(131, 10, i)\n",
    "    if (a[-1] == \"2\") and (b[-1] == \"1\"):\n",
    "        print(a, b, i)\n",
    "        break\n"
   ]
  },
  {
   "cell_type": "code",
   "execution_count": null,
   "id": "1a2bd2fb",
   "metadata": {},
   "outputs": [],
   "source": [
    "arr = [str(x) for x in open(\"24.txt\").readlines()]\n",
    "print(len(arr))\n",
    "maxx = -1000000000\n",
    "for item in arr:\n",
    "    if item.count(\"A\") < 25:\n",
    "        item = \"\"\n",
    "for item in arr:\n",
    "    if item == \"\":\n",
    "        continue\n",
    "    for i in range(len(item)):\n",
    "        count = 0\n",
    "        a = item[i]\n",
    "        for j in range(i + 1, len(item)):\n",
    "            b = item[j]\n",
    "            if a != b:\n",
    "                count += 1\n",
    "        if count > maxx:\n",
    "            maxx = count\n",
    "maxx"
   ]
  },
  {
   "cell_type": "code",
   "execution_count": null,
   "id": "32b2e8f2",
   "metadata": {},
   "outputs": [],
   "source": [
    "arr = [int(x) for x in open(\"17-2.txt\").readlines()]\n",
    "count = 0\n",
    "maxx = -10000000\n",
    "for i in range(len(arr)):\n",
    "    a = arr[i]\n",
    "    for j in range(i + 1, len(arr)):\n",
    "        b = arr[j]\n",
    "        if (a + b) % 9 == 0:\n",
    "            count += 1\n",
    "            maxx = max(maxx, a+b)\n",
    "count, maxx"
   ]
  },
  {
   "cell_type": "code",
   "execution_count": null,
   "id": "344ea9cc",
   "metadata": {},
   "outputs": [],
   "source": []
  }
 ],
 "metadata": {
  "kernelspec": {
   "display_name": "Python 3 (ipykernel)",
   "language": "python",
   "name": "python3"
  },
  "language_info": {
   "codemirror_mode": {
    "name": "ipython",
    "version": 3
   },
   "file_extension": ".py",
   "mimetype": "text/x-python",
   "name": "python",
   "nbconvert_exporter": "python",
   "pygments_lexer": "ipython3",
   "version": "3.10.2"
  }
 },
 "nbformat": 4,
 "nbformat_minor": 5
}
