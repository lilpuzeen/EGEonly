{
 "cells": [
  {
   "cell_type": "code",
   "execution_count": null,
   "id": "bc054feb",
   "metadata": {},
   "outputs": [],
   "source": [
    "def tr(start, finish):\n",
    "    if start > finish:\n",
    "        return 0\n",
    "    if start == finish:\n",
    "        return 1\n",
    "    return tr(start + 1, finish) + tr(start * 2, finish)\n",
    "\n",
    "\n",
    "tr(1, 10)*tr(10, 20)"
   ]
  },
  {
   "cell_type": "code",
   "execution_count": 1,
   "id": "d074b3e5",
   "metadata": {},
   "outputs": [
    {
     "name": "stdout",
     "output_type": "stream",
     "text": [
      "700005 233338\n",
      "700007 100008\n",
      "700012 350008\n",
      "700015 140008\n",
      "700031 24168\n",
      "700032 350018\n",
      "700035 233348\n",
      "700052 350028\n",
      "700065 233358\n",
      "700072 350038\n",
      "700092 350048\n",
      "700095 233368\n",
      "700112 350058\n",
      "700115 140028\n",
      "700117 63658\n",
      "700125 233378\n",
      "700132 350068\n",
      "700147 100028\n",
      "700152 350078\n",
      "700155 233388\n",
      "700157 17118\n",
      "700165 140038\n",
      "700172 350088\n",
      "700185 233398\n",
      "700187 4788\n",
      "700192 350098\n",
      "700212 350108\n",
      "700215 233408\n",
      "700217 100038\n",
      "700232 350118\n",
      "700245 233418\n",
      "700247 41208\n",
      "700252 350128\n",
      "700265 140058\n",
      "700267 2588\n",
      "700272 350138\n",
      "700275 233428\n",
      "700292 350148\n",
      "700305 233438\n",
      "700312 350158\n",
      "700315 140068\n",
      "700321 36878\n",
      "700332 350168\n",
      "700335 233448\n",
      "700337 63678\n",
      "700352 350178\n",
      "700357 100058\n",
      "700365 233458\n",
      "700372 350188\n",
      "700392 350198\n",
      "700395 233468\n",
      "700412 350208\n",
      "700415 140088\n",
      "700417 41218\n",
      "700421 5178\n",
      "700425 233478\n",
      "700427 100068\n",
      "700432 350218\n",
      "700447 63688\n",
      "700452 350228\n",
      "700455 233488\n",
      "700457 5478\n",
      "700465 140098\n",
      "700472 350238\n",
      "700485 233498\n",
      "700492 350248\n",
      "700507 22628\n",
      "700512 350258\n",
      "700515 233508\n",
      "700532 350268\n",
      "700545 233518\n",
      "700547 2148\n",
      "700552 350278\n",
      "700565 140118\n",
      "700567 100088\n",
      "700572 350288\n",
      "700575 233528\n",
      "700592 350298\n",
      "700605 233538\n",
      "700612 350308\n",
      "700615 140128\n",
      "700632 350318\n",
      "700635 233548\n",
      "700637 100098\n",
      "700652 350328\n",
      "700657 1918\n",
      "700665 233558\n",
      "700667 63708\n",
      "700672 350338\n",
      "700692 350348\n",
      "700695 233568\n",
      "700712 350358\n",
      "700715 140148\n",
      "700725 233578\n",
      "700732 350368\n",
      "700752 350378\n",
      "700755 233588\n",
      "700757 41238\n",
      "700765 140158\n",
      "700772 350388\n",
      "700777 100118\n",
      "700785 233598\n",
      "700792 350398\n",
      "700812 350408\n",
      "700815 233608\n",
      "700832 350418\n",
      "700845 233618\n",
      "700847 100128\n",
      "700852 350428\n",
      "700865 140178\n",
      "700872 350438\n",
      "700875 233628\n",
      "700891 36908\n",
      "700892 350448\n",
      "700901 24198\n",
      "700905 233638\n",
      "700912 350458\n",
      "700915 140188\n",
      "700927 41248\n",
      "700932 350468\n",
      "700935 233648\n",
      "700952 350478\n",
      "700957 6658\n",
      "700965 233658\n",
      "700972 350488\n",
      "700987 100148\n",
      "700992 350498\n",
      "700995 233668\n",
      "700997 63738\n"
     ]
    }
   ],
   "source": [
    "def p(x):\n",
    "    return x > 1 and all(x % i != 0 for i in range(2, int(x**0.5)+1))\n",
    "\n",
    "\n",
    "def div(x):\n",
    "    d = set()\n",
    "    for i in range(2, int(x**0.5)+1):\n",
    "        if x % i == 0:\n",
    "            d |= {i, x // i}\n",
    "    return sorted(d)\n",
    "\n",
    "\n",
    "for i in range(700_001, 701_000):\n",
    "    if p(i):\n",
    "        continue\n",
    "    arr = div(i)\n",
    "    M = arr[0] + arr[-1]\n",
    "    if M % 10 == 8:\n",
    "        print(i, M)"
   ]
  },
  {
   "cell_type": "code",
   "execution_count": null,
   "id": "fecf671b",
   "metadata": {},
   "outputs": [],
   "source": [
    "for i in range(10000):\n",
    "    x = i\n",
    "    Q = 9\n",
    "    L = 0\n",
    "    while x >= Q:\n",
    "        L = L + 1\n",
    "        x = x - Q\n",
    "    M = x\n",
    "    if M < L:\n",
    "        M = L\n",
    "        L = x\n",
    "    if L == 4 and M == 5:\n",
    "        print(i)"
   ]
  },
  {
   "cell_type": "code",
   "execution_count": null,
   "id": "78339785",
   "metadata": {},
   "outputs": [],
   "source": [
    "def f(s, c, m):\n",
    "    if s >= 29:\n",
    "        return c%2==m%2\n",
    "    if c == m:\n",
    "        return 0\n",
    "    \n",
    "    h = [f(s+1, c+1, m), f(s*2, c+1, m)]\n",
    "    return any(h) if (c+1)%2 == m%2 else all(h)\n",
    "\n",
    "\n",
    "for s in range(1, 29):\n",
    "    for m in range(1, 5):\n",
    "        if f(s, 0, m) == 1:\n",
    "            print(s, m)"
   ]
  },
  {
   "cell_type": "code",
   "execution_count": 14,
   "id": "b3e058d8",
   "metadata": {},
   "outputs": [
    {
     "data": {
      "text/plain": [
       "4122"
      ]
     },
     "execution_count": 14,
     "metadata": {},
     "output_type": "execute_result"
    }
   ],
   "source": [
    "def f(n):\n",
    "    if n == 1:\n",
    "        return 1\n",
    "    if n % 2 == 0:\n",
    "        return n + f(n-1)\n",
    "    if n > 1 and n % 2 != 0:\n",
    "        return 2 * f(n-2)\n",
    "    \n",
    "f(26)"
   ]
  },
  {
   "cell_type": "code",
   "execution_count": 2,
   "id": "2e39aa34",
   "metadata": {},
   "outputs": [
    {
     "data": {
      "text/plain": [
       "(2802, 1990)"
      ]
     },
     "execution_count": 2,
     "metadata": {},
     "output_type": "execute_result"
    }
   ],
   "source": [
    "arr = [int(x) for x in open(\"17-3.txt\").readlines()]\n",
    "count, maxx = 0, -1000000\n",
    "for i in range(len(arr) - 1):\n",
    "    a = arr[i]\n",
    "    b = arr[i + 1]\n",
    "    if ((a % 3 == 0) or (b % 3 == 0)):\n",
    "        count += 1\n",
    "        maxx = max(maxx, (a + b))\n",
    "count, maxx"
   ]
  },
  {
   "cell_type": "code",
   "execution_count": 4,
   "id": "20c1b78b",
   "metadata": {},
   "outputs": [
    {
     "data": {
      "text/plain": [
       "15"
      ]
     },
     "execution_count": 4,
     "metadata": {},
     "output_type": "execute_result"
    }
   ],
   "source": [
    "a = 3 * 4**38 + 2 * 4**23 + 4**20 + 3 * 4**5 + 2 * 4**4 + 1\n",
    "s = hex(a)[2:]\n",
    "s.count(\"0\")\n"
   ]
  },
  {
   "cell_type": "code",
   "execution_count": 8,
   "id": "2f49bfc0",
   "metadata": {},
   "outputs": [
    {
     "name": "stdout",
     "output_type": "stream",
     "text": [
      "126 ('Л', 'Е', 'Е', 'Е')\n"
     ]
    }
   ],
   "source": [
    "from itertools import product\n",
    "\n",
    "lets = [\"Е\", \"Л\", \"М\", \"Р\", \"У\"]\n",
    "count = 1\n",
    "for item in product(lets, repeat=4):\n",
    "    s = \"\".join(item)\n",
    "    if s.startswith(\"Л\"):\n",
    "        print(count, item)\n",
    "        break\n",
    "    else:\n",
    "        count += 1"
   ]
  },
  {
   "cell_type": "code",
   "execution_count": 9,
   "id": "9ca09e2b",
   "metadata": {},
   "outputs": [
    {
     "name": "stdout",
     "output_type": "stream",
     "text": [
      "19\n"
     ]
    }
   ],
   "source": [
    "for i in range(10000):\n",
    "    n = bin(i)[2:]\n",
    "    ones = n.count(\"1\")\n",
    "    n += str(ones % 2)\n",
    "    ones = n.count(\"1\")\n",
    "    n += str(ones % 2)\n",
    "    if int(n, 2) > 77:\n",
    "        print(i)\n",
    "        break"
   ]
  },
  {
   "cell_type": "code",
   "execution_count": null,
   "id": "1e2d688e",
   "metadata": {},
   "outputs": [],
   "source": []
  }
 ],
 "metadata": {
  "kernelspec": {
   "display_name": "Python 3 (ipykernel)",
   "language": "python",
   "name": "python3"
  },
  "language_info": {
   "codemirror_mode": {
    "name": "ipython",
    "version": 3
   },
   "file_extension": ".py",
   "mimetype": "text/x-python",
   "name": "python",
   "nbconvert_exporter": "python",
   "pygments_lexer": "ipython3",
   "version": "3.10.2"
  }
 },
 "nbformat": 4,
 "nbformat_minor": 5
}
