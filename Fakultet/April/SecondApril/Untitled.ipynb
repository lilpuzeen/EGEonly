{
 "cells": [
  {
   "cell_type": "code",
   "execution_count": null,
   "id": "8382788b",
   "metadata": {},
   "outputs": [],
   "source": [
    "for i in range(9):\n",
    "    print(i, bin(i)[2:])"
   ]
  },
  {
   "cell_type": "code",
   "execution_count": null,
   "id": "727db041",
   "metadata": {},
   "outputs": [],
   "source": [
    "a = \"001000010000011100010\"\n",
    "b = int(a, 2)\n",
    "oct(b)[2:]"
   ]
  },
  {
   "cell_type": "code",
   "execution_count": null,
   "id": "29509bb8",
   "metadata": {},
   "outputs": [],
   "source": [
    "s = 0\n",
    "k = 0\n",
    "while s < 100:\n",
    "    s += k\n",
    "    k += 4\n",
    "print(k)"
   ]
  },
  {
   "cell_type": "code",
   "execution_count": null,
   "id": "17130180",
   "metadata": {},
   "outputs": [],
   "source": [
    "8/32"
   ]
  },
  {
   "cell_type": "code",
   "execution_count": null,
   "id": "be895f9d",
   "metadata": {},
   "outputs": [],
   "source": [
    "def calc(x, a, b):\n",
    "    s = \"\"\n",
    "    x = int(str(x), a)\n",
    "    while x > 0:\n",
    "        s += str(x % b)\n",
    "        x //= b\n",
    "    return s[::-1]\n",
    "\n",
    "\n",
    "for i in range(18):\n",
    "    print(i, calc(i, 10, 3))"
   ]
  },
  {
   "cell_type": "code",
   "execution_count": null,
   "id": "3f25842e",
   "metadata": {},
   "outputs": [],
   "source": [
    "a = 1\n",
    "while True:\n",
    "    for x in range(1000):\n",
    "        for y in range(1000):\n",
    "            if not(((x < 6) <= (x**2 < a)) and ((y**2 <= a) <= (y <= 6))):\n",
    "                break\n",
    "        else:\n",
    "            continue\n",
    "        break\n",
    "    else:\n",
    "        print(a)\n",
    "    a += 1\n"
   ]
  },
  {
   "cell_type": "code",
   "execution_count": null,
   "id": "0f81e39b",
   "metadata": {},
   "outputs": [],
   "source": [
    "def f(n):\n",
    "    if n > 0:\n",
    "        f(n - 4)\n",
    "        print(n)\n",
    "        f(n//3)\n",
    "f(9)"
   ]
  },
  {
   "cell_type": "code",
   "execution_count": null,
   "id": "e527f6c1",
   "metadata": {},
   "outputs": [],
   "source": [
    "arr = [int(x) for x in open(\"17.txt\").readlines()]\n",
    "maxx = -10000000\n",
    "count = 0\n",
    "for i in range(len(arr) - 1):\n",
    "    a = arr[i]\n",
    "    b = arr[i + 1]\n",
    "    if ((a % 3 == 0) or (b % 3 == 0)) and ((a + b) % 5 == 0):\n",
    "        count += 1\n",
    "        maxx = max(a+b, maxx)\n",
    "count, maxx"
   ]
  },
  {
   "cell_type": "code",
   "execution_count": null,
   "id": "148920f4",
   "metadata": {},
   "outputs": [],
   "source": [
    "from math import floor\n",
    "\n",
    "def f(a,b,c,m):\n",
    "    if a + b <= 20:\n",
    "        return c%2 == m%2\n",
    "    if c == m:\n",
    "        return 0\n",
    "    \n",
    "    h = [f(a-1, b, c+1, m), f(a, b-1, c+1, m), f(floor(a/2), b, c + 1, m), f(a, floor(b/2), c + 1, m)]\n",
    "    return any(h) if (c+1)%2 == m%2 else all(h)\n",
    "\n",
    "\n",
    "for b in range(11, 200):\n",
    "    for m in range(1, 5):\n",
    "        if f(10, b, 0, m) == 1:\n",
    "            print(b, m)\n",
    "            break"
   ]
  },
  {
   "cell_type": "code",
   "execution_count": null,
   "id": "0dff8f3a",
   "metadata": {},
   "outputs": [],
   "source": [
    "from math import floor\n",
    "floor(9/2)"
   ]
  },
  {
   "cell_type": "code",
   "execution_count": 24,
   "id": "c6c55d5f",
   "metadata": {},
   "outputs": [
    {
     "name": "stdout",
     "output_type": "stream",
     "text": [
      "7\n",
      "35\n"
     ]
    }
   ],
   "source": [
    "for i in range(10000):\n",
    "    x = 42\n",
    "    y = i\n",
    "    if y > x:\n",
    "        z = x\n",
    "        x = y\n",
    "        y = z\n",
    "    a = x\n",
    "    b = y\n",
    "    while b > 0:\n",
    "        r = a % b\n",
    "        a = b\n",
    "        b = r\n",
    "    if (a == 7) and (x == 42):\n",
    "        print(y)"
   ]
  },
  {
   "cell_type": "code",
   "execution_count": 28,
   "id": "89409f3b",
   "metadata": {},
   "outputs": [
    {
     "data": {
      "text/plain": [
       "{-20, -13, -6, 1, 8, 15, 22, 29}"
      ]
     },
     "execution_count": 28,
     "metadata": {},
     "output_type": "execute_result"
    }
   ],
   "source": [
    "d = set()\n",
    "def tr(start, step):\n",
    "    if step == 7:\n",
    "        d.add(start)\n",
    "    else:\n",
    "        tr(start + 4, step + 1)\n",
    "        tr(start - 3, step + 1)\n",
    "tr(1, 0)\n",
    "d"
   ]
  },
  {
   "cell_type": "code",
   "execution_count": 35,
   "id": "363abe84",
   "metadata": {},
   "outputs": [
    {
     "data": {
      "text/plain": [
       "2252"
      ]
     },
     "execution_count": 35,
     "metadata": {},
     "output_type": "execute_result"
    }
   ],
   "source": [
    "s = open(\"24.txt\").readline()\n",
    "s = s.replace(\"ad\", \"a d\").replace(\"da\", \"d a\")\n",
    "max(list(map(len, s.split())))"
   ]
  },
  {
   "cell_type": "code",
   "execution_count": null,
   "id": "f0fc19a9",
   "metadata": {},
   "outputs": [],
   "source": []
  }
 ],
 "metadata": {
  "kernelspec": {
   "display_name": "Python 3 (ipykernel)",
   "language": "python",
   "name": "python3"
  },
  "language_info": {
   "codemirror_mode": {
    "name": "ipython",
    "version": 3
   },
   "file_extension": ".py",
   "mimetype": "text/x-python",
   "name": "python",
   "nbconvert_exporter": "python",
   "pygments_lexer": "ipython3",
   "version": "3.10.2"
  }
 },
 "nbformat": 4,
 "nbformat_minor": 5
}
