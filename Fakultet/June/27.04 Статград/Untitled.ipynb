{
 "cells": [
  {
   "cell_type": "code",
   "execution_count": null,
   "id": "3547480b",
   "metadata": {},
   "outputs": [],
   "source": [
    "# Статград от 27.04.2022"
   ]
  },
  {
   "cell_type": "code",
   "execution_count": null,
   "id": "a8cda09d",
   "metadata": {},
   "outputs": [],
   "source": [
    "# 2\n",
    "print(\"x y w z\")\n",
    "for x in range(2):\n",
    "    for y in range(2):\n",
    "        for w in range(2):\n",
    "            for z in range(2):\n",
    "                if not((x == (y or z)) <= (y == (x and w))):\n",
    "                    print(x, y, w, z)\n",
    "# zxyw"
   ]
  },
  {
   "cell_type": "code",
   "execution_count": null,
   "id": "16e3363a",
   "metadata": {},
   "outputs": [],
   "source": [
    "#4\n",
    "5+3+3+3+3+6+3+3"
   ]
  },
  {
   "cell_type": "code",
   "execution_count": null,
   "id": "af0da55b",
   "metadata": {},
   "outputs": [],
   "source": [
    "for i in range(10, 1000):\n",
    "    s = str(i)\n",
    "    arr = []\n",
    "    for j in range(len(s) - 1):\n",
    "        a = s[j]+s[j+1]\n",
    "        arr.append(int(a))\n",
    "    if max(arr) - min(arr) == 44:\n",
    "        print(i)"
   ]
  },
  {
   "cell_type": "code",
   "execution_count": null,
   "id": "510f10d3",
   "metadata": {},
   "outputs": [],
   "source": [
    "#6\n",
    "for i in range(1610612733 - 100000, 1610612736 + 100000):\n",
    "    s = i\n",
    "    s = s // 3\n",
    "    n = 0\n",
    "    k = 1\n",
    "    while s > k:\n",
    "        s -= k\n",
    "        k *= 2\n",
    "        n += 1\n",
    "    if n == 29:\n",
    "        print(i)\n",
    "        break"
   ]
  },
  {
   "cell_type": "code",
   "execution_count": null,
   "id": "40f03b62",
   "metadata": {},
   "outputs": [],
   "source": [
    "536870912*3"
   ]
  },
  {
   "cell_type": "code",
   "execution_count": null,
   "id": "347e7094",
   "metadata": {},
   "outputs": [],
   "source": [
    "#8\n",
    "from itertools import product\n",
    "lets = list(\"НИКОЛАЙ\")\n",
    "count = 0\n",
    "for item in product(lets, repeat=11):\n",
    "    s = \"\".join(item)\n",
    "    if s[0] != \"Й\" and all(s.count(i) == 1 for i in \"ИОА\"):\n",
    "        count += 1\n",
    "        print(s, count)\n",
    "count"
   ]
  },
  {
   "cell_type": "code",
   "execution_count": null,
   "id": "3b2ce87c",
   "metadata": {},
   "outputs": [],
   "source": [
    "7**11"
   ]
  },
  {
   "cell_type": "code",
   "execution_count": null,
   "id": "11e6c2cd",
   "metadata": {},
   "outputs": [],
   "source": [
    "11*15"
   ]
  },
  {
   "cell_type": "code",
   "execution_count": null,
   "id": "b221405f",
   "metadata": {},
   "outputs": [],
   "source": [
    "def calc(x, a, b):\n",
    "    s = ''\n",
    "    x = int(str(x), a)\n",
    "    while x > 0:\n",
    "        s += str(x % b)\n",
    "        x //= b\n",
    "    return s[::-1]\n",
    "\n",
    "n = 15 * 1728**8 + 9*144**12 + 7*12**12 + 154\n",
    "calc(n, 10, 12)."
   ]
  },
  {
   "cell_type": "code",
   "execution_count": null,
   "id": "a186e764",
   "metadata": {},
   "outputs": [],
   "source": [
    "a = 1\n",
    "while True:\n",
    "    for x in range(1000):\n",
    "        for y in range(1000):\n",
    "            if not((x**2 + y**2 < a) or (x > 3) or (y >= 5)):\n",
    "                break\n",
    "        else:\n",
    "            continue\n",
    "        break\n",
    "    else:\n",
    "        print(a)\n",
    "    a += 1"
   ]
  },
  {
   "cell_type": "code",
   "execution_count": 10,
   "id": "920eaaf4",
   "metadata": {},
   "outputs": [
    {
     "data": {
      "text/plain": [
       "(792, 25092)"
      ]
     },
     "execution_count": 10,
     "metadata": {},
     "output_type": "execute_result"
    }
   ],
   "source": [
    "arr = [int(x) for x in open(\"17-4.txt\").readlines()]\n",
    "odds = [x for x in arr if x % 2 != 0]\n",
    "mid = sum(odds) / len(odds)\n",
    "maxx = -10000000\n",
    "count = 0\n",
    "f = lambda x: x % 3\n",
    "for i in range(len(arr)-2):\n",
    "    t = sorted([arr[i], arr[i+1], arr[i+2]])\n",
    "    if f(t[0]) != f(t[1]) and f(t[0]) != f(t[2]) and f(t[1]) != f(t[2]):\n",
    "        if t[0] < mid and t[1] >= mid:\n",
    "            count += 1\n",
    "            maxx = max(t[0]+t[1]+t[2], maxx)\n",
    "count, maxx"
   ]
  },
  {
   "cell_type": "code",
   "execution_count": 11,
   "id": "72c22553",
   "metadata": {},
   "outputs": [
    {
     "data": {
      "text/plain": [
       "73"
      ]
     },
     "execution_count": 11,
     "metadata": {},
     "output_type": "execute_result"
    }
   ],
   "source": [
    "def tr(start, finish):\n",
    "    if start > finish: return 0\n",
    "    if start == finish: return 1\n",
    "    return tr(start + 1, finish) + tr(int(str(start) + \"1\"), finish)\n",
    "\n",
    "tr(1,333)"
   ]
  },
  {
   "cell_type": "code",
   "execution_count": 30,
   "id": "aea0c49e",
   "metadata": {},
   "outputs": [
    {
     "name": "stdout",
     "output_type": "stream",
     "text": [
      "44050\n"
     ]
    }
   ],
   "source": [
    "def p(x):\n",
    "    return x > 1 and all(x % i != 0 for i in range(2, int(x**0.5)+1))\n",
    "\n",
    "def div(x):\n",
    "    d = set()\n",
    "    for i in range(2, int(x**0.5)+1):\n",
    "        if x % i == 0:\n",
    "            d |= {i, x // i}\n",
    "    return sorted(d)\n",
    "\n",
    "\n",
    "M = 950_000_000\n",
    "for k in range(1, 100000):\n",
    "    a = M + k\n",
    "    if p(a):\n",
    "        continue\n",
    "    if a % 2 == 0:\n",
    "        arr_i = div(a)\n",
    "        arr = list(filter(lambda x: x % 2 == 0, arr_i))\n",
    "        if (len(arr) + 1) % 2 != 0:\n",
    "            print(k)\n",
    "    else:\n",
    "        arr_i = div(a)\n",
    "        arr = list(filter(lambda x: x % 2 == 0, arr_i))\n",
    "        if (len(arr)) % 2 != 0:\n",
    "            print(k)"
   ]
  },
  {
   "cell_type": "code",
   "execution_count": null,
   "id": "aac889d4",
   "metadata": {},
   "outputs": [],
   "source": []
  }
 ],
 "metadata": {
  "kernelspec": {
   "display_name": "Python 3 (ipykernel)",
   "language": "python",
   "name": "python3"
  },
  "language_info": {
   "codemirror_mode": {
    "name": "ipython",
    "version": 3
   },
   "file_extension": ".py",
   "mimetype": "text/x-python",
   "name": "python",
   "nbconvert_exporter": "python",
   "pygments_lexer": "ipython3",
   "version": "3.10.2"
  }
 },
 "nbformat": 4,
 "nbformat_minor": 5
}
