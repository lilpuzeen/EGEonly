{
 "cells": [
  {
   "cell_type": "code",
   "execution_count": null,
   "id": "3547480b",
   "metadata": {},
   "outputs": [],
   "source": [
    "# Статград от 27.04.2022"
   ]
  },
  {
   "cell_type": "code",
   "execution_count": null,
   "id": "a8cda09d",
   "metadata": {},
   "outputs": [],
   "source": [
    "# 2\n",
    "print(\"x y w z\")\n",
    "for x in range(2):\n",
    "    for y in range(2):\n",
    "        for w in range(2):\n",
    "            for z in range(2):\n",
    "                if not((x == (y or z)) <= (y == (x and w))):\n",
    "                    print(x, y, w, z)\n",
    "# zxyw"
   ]
  },
  {
   "cell_type": "code",
   "execution_count": null,
   "id": "16e3363a",
   "metadata": {},
   "outputs": [],
   "source": [
    "#4\n",
    "5+3+3+3+3+6+3+3"
   ]
  },
  {
   "cell_type": "code",
   "execution_count": null,
   "id": "af0da55b",
   "metadata": {},
   "outputs": [],
   "source": [
    "for i in range(10, 1000):\n",
    "    s = str(i)\n",
    "    arr = []\n",
    "    for j in range(len(s) - 1):\n",
    "        a = s[j]+s[j+1]\n",
    "        arr.append(int(a))\n",
    "    if max(arr) - min(arr) == 44:\n",
    "        print(i)"
   ]
  },
  {
   "cell_type": "code",
   "execution_count": null,
   "id": "510f10d3",
   "metadata": {},
   "outputs": [],
   "source": [
    "#6\n",
    "for i in range(1610612733 - 100000, 1610612736 + 100000):\n",
    "    s = i\n",
    "    s = s // 3\n",
    "    n = 0\n",
    "    k = 1\n",
    "    while s > k:\n",
    "        s -= k\n",
    "        k *= 2\n",
    "        n += 1\n",
    "    if n == 29:\n",
    "        print(i)\n",
    "        break"
   ]
  },
  {
   "cell_type": "code",
   "execution_count": null,
   "id": "40f03b62",
   "metadata": {},
   "outputs": [],
   "source": [
    "536870912*3"
   ]
  },
  {
   "cell_type": "code",
   "execution_count": null,
   "id": "347e7094",
   "metadata": {},
   "outputs": [],
   "source": [
    "#8\n",
    "from itertools import product\n",
    "lets = list(\"НИКОЛАЙ\")\n",
    "count = 0\n",
    "for item in product(lets, repeat=11):\n",
    "    s = \"\".join(item)\n",
    "    if s[0] != \"Й\" and all(s.count(i) == 1 for i in \"ИОА\"):\n",
    "        count += 1\n",
    "        print(s, count)\n",
    "count"
   ]
  },
  {
   "cell_type": "code",
   "execution_count": null,
   "id": "3b2ce87c",
   "metadata": {},
   "outputs": [],
   "source": [
    "7**11"
   ]
  },
  {
   "cell_type": "code",
   "execution_count": null,
   "id": "11e6c2cd",
   "metadata": {},
   "outputs": [],
   "source": [
    "11*15"
   ]
  },
  {
   "cell_type": "code",
   "execution_count": null,
   "id": "b221405f",
   "metadata": {},
   "outputs": [],
   "source": [
    "def calc(x, a, b):\n",
    "    s = ''\n",
    "    x = int(str(x), a)\n",
    "    while x > 0:\n",
    "        s += str(x % b)\n",
    "        x //= b\n",
    "    return s[::-1]\n",
    "\n",
    "n = 15 * 1728**8 + 9*144**12 + 7*12**12 + 154\n",
    "calc(n, 10, 12)."
   ]
  },
  {
   "cell_type": "code",
   "execution_count": null,
   "id": "a186e764",
   "metadata": {},
   "outputs": [],
   "source": [
    "a = 1\n",
    "while True:\n",
    "    for x in range(1000):\n",
    "        for y in range(1000):\n",
    "            if not((x**2 + y**2 < a) or (x > 3) or (y >= 5)):\n",
    "                break\n",
    "        else:\n",
    "            continue\n",
    "        break\n",
    "    else:\n",
    "        print(a)\n",
    "    a += 1"
   ]
  },
  {
   "cell_type": "code",
   "execution_count": 2,
   "id": "920eaaf4",
   "metadata": {},
   "outputs": [],
   "source": [
    "arr = [int(x) for x in open(\"17-4.txt\").readlines()]\n",
    "for i in range(len(arr)-2):\n",
    "    a = arr[i]\n",
    "    b = arr[i+1]\n",
    "    c = arr[i+2]\n",
    "    "
   ]
  },
  {
   "cell_type": "code",
   "execution_count": null,
   "id": "72c22553",
   "metadata": {},
   "outputs": [],
   "source": []
  }
 ],
 "metadata": {
  "kernelspec": {
   "display_name": "Python 3 (ipykernel)",
   "language": "python",
   "name": "python3"
  },
  "language_info": {
   "codemirror_mode": {
    "name": "ipython",
    "version": 3
   },
   "file_extension": ".py",
   "mimetype": "text/x-python",
   "name": "python",
   "nbconvert_exporter": "python",
   "pygments_lexer": "ipython3",
   "version": "3.10.2"
  }
 },
 "nbformat": 4,
 "nbformat_minor": 5
}
