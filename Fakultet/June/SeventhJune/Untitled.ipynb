{
 "cells": [
  {
   "cell_type": "code",
   "execution_count": 1,
   "id": "bb38a7ab",
   "metadata": {},
   "outputs": [
    {
     "name": "stdout",
     "output_type": "stream",
     "text": [
      "x y z\n",
      "0 0 0\n",
      "0 0 1\n",
      "1 0 0\n",
      "1 0 1\n",
      "1 1 0\n"
     ]
    }
   ],
   "source": [
    "# ¬y ∨ (x ∧ ¬z).\n",
    "print(\"x y z\")\n",
    "for x in range(2):\n",
    "    for y in range(2):\n",
    "        for z in range(2):\n",
    "            if (not y) or (x and (not z)):\n",
    "                print(x, y, z)"
   ]
  },
  {
   "cell_type": "code",
   "execution_count": 4,
   "id": "db808740",
   "metadata": {},
   "outputs": [
    {
     "data": {
      "text/plain": [
       "59442"
      ]
     },
     "execution_count": 4,
     "metadata": {},
     "output_type": "execute_result"
    }
   ],
   "source": [
    "int(\"1110100000110010\", 2)"
   ]
  },
  {
   "cell_type": "code",
   "execution_count": 5,
   "id": "8e5f6ce6",
   "metadata": {},
   "outputs": [
    {
     "data": {
      "text/plain": [
       "'e832'"
      ]
     },
     "execution_count": 5,
     "metadata": {},
     "output_type": "execute_result"
    }
   ],
   "source": [
    "hex(59442)[2:]"
   ]
  },
  {
   "cell_type": "code",
   "execution_count": 12,
   "id": "5cdb6060",
   "metadata": {},
   "outputs": [
    {
     "data": {
      "text/plain": [
       "12"
      ]
     },
     "execution_count": 12,
     "metadata": {},
     "output_type": "execute_result"
    }
   ],
   "source": [
    "count = 0\n",
    "for i in range(1000, 10000):\n",
    "    lets = [int(x) for x in list(str(i))]\n",
    "    res = []\n",
    "    if all(x % 2 != 0 for x in lets):\n",
    "        a = lets[0] + lets[1]\n",
    "        b = lets[2] + lets[3]\n",
    "        res.append(a)\n",
    "        res.append(b)\n",
    "        res.sort()\n",
    "        res = [str(i) for i in res]\n",
    "        if \"\".join(res) == \"414\":\n",
    "            count += 1\n",
    "    else:\n",
    "        continue\n",
    "count"
   ]
  },
  {
   "cell_type": "code",
   "execution_count": 13,
   "id": "f75ada0a",
   "metadata": {},
   "outputs": [
    {
     "name": "stdout",
     "output_type": "stream",
     "text": [
      "63\n"
     ]
    }
   ],
   "source": [
    "s = 22\n",
    "n = 0\n",
    "while s < s*s:\n",
    "    s = s - 1\n",
    "    n = n + 3\n",
    "print(n)"
   ]
  },
  {
   "cell_type": "code",
   "execution_count": 15,
   "id": "53cc456e",
   "metadata": {},
   "outputs": [
    {
     "data": {
      "text/plain": [
       "2500"
      ]
     },
     "execution_count": 15,
     "metadata": {},
     "output_type": "execute_result"
    }
   ],
   "source": [
    "5*500"
   ]
  },
  {
   "cell_type": "code",
   "execution_count": 23,
   "id": "2e392910",
   "metadata": {
    "collapsed": true
   },
   "outputs": [
    {
     "name": "stdout",
     "output_type": "stream",
     "text": [
      "10010000 2\n",
      "12100 3\n",
      "2100 4\n",
      "1034 5\n",
      "400 6\n",
      "264 7\n",
      "220 8\n",
      "170 9\n",
      "144 10\n",
      "121 11\n",
      "100 12\n",
      "111 13\n",
      "014 14\n",
      "99 15\n"
     ]
    }
   ],
   "source": [
    "def calc(x, a, b):\n",
    "    s = \"\"\n",
    "    x = int(str(x), a)\n",
    "    while x > 0:\n",
    "        s += str(x % b)\n",
    "        x //= b\n",
    "    return s[::-1]\n",
    "\n",
    "\n",
    "for i in range(2, 16):\n",
    "    n = calc(144, 10, i)\n",
    "    print(n, i)"
   ]
  },
  {
   "cell_type": "code",
   "execution_count": 24,
   "id": "91757804",
   "metadata": {
    "collapsed": true
   },
   "outputs": [
    {
     "name": "stdout",
     "output_type": "stream",
     "text": [
      "1\n",
      "2\n",
      "3\n",
      "4\n",
      "5\n",
      "6\n",
      "7\n",
      "8\n",
      "9\n",
      "10\n",
      "11\n",
      "12\n",
      "13\n",
      "14\n",
      "15\n"
     ]
    },
    {
     "ename": "KeyboardInterrupt",
     "evalue": "",
     "output_type": "error",
     "traceback": [
      "\u001b[0;31m---------------------------------------------------------------------------\u001b[0m",
      "\u001b[0;31mKeyboardInterrupt\u001b[0m                         Traceback (most recent call last)",
      "Input \u001b[0;32mIn [24]\u001b[0m, in \u001b[0;36m<cell line: 3>\u001b[0;34m()\u001b[0m\n\u001b[1;32m      5\u001b[0m \u001b[38;5;28;01mfor\u001b[39;00m y \u001b[38;5;129;01min\u001b[39;00m \u001b[38;5;28mrange\u001b[39m(\u001b[38;5;241m1000\u001b[39m):\n\u001b[1;32m      6\u001b[0m     \u001b[38;5;28;01mif\u001b[39;00m \u001b[38;5;129;01mnot\u001b[39;00m((y \u001b[38;5;241m+\u001b[39m \u001b[38;5;241m2\u001b[39m\u001b[38;5;241m*\u001b[39mx \u001b[38;5;241m!=\u001b[39m \u001b[38;5;241m48\u001b[39m) \u001b[38;5;129;01mor\u001b[39;00m (a \u001b[38;5;241m<\u001b[39m x) \u001b[38;5;129;01mor\u001b[39;00m (a \u001b[38;5;241m<\u001b[39m y)):\n\u001b[0;32m----> 7\u001b[0m         \u001b[38;5;28;01mbreak\u001b[39;00m\n\u001b[1;32m      8\u001b[0m \u001b[38;5;28;01melse\u001b[39;00m:\n\u001b[1;32m      9\u001b[0m     \u001b[38;5;28;01mcontinue\u001b[39;00m\n",
      "\u001b[0;31mKeyboardInterrupt\u001b[0m: "
     ]
    }
   ],
   "source": [
    "# (y + 2x ≠ 48) ∨ (A < x) ∨ (A < y)\n",
    "a = 1\n",
    "while True:\n",
    "    for x in range(1000):\n",
    "        for y in range(1000):\n",
    "            if not((y + 2*x != 48) or (a < x) or (a < y)):\n",
    "                break\n",
    "        else:\n",
    "            continue\n",
    "        break\n",
    "    else:\n",
    "        print(a)\n",
    "    a += 1"
   ]
  },
  {
   "cell_type": "code",
   "execution_count": 26,
   "id": "987a79ea",
   "metadata": {
    "collapsed": true
   },
   "outputs": [
    {
     "name": "stdout",
     "output_type": "stream",
     "text": [
      "3\n",
      "1\n",
      "6\n",
      "2\n",
      "9\n",
      "3\n",
      "1\n"
     ]
    }
   ],
   "source": [
    "def F(n):\n",
    "    if n > 0:\n",
    "        F(n - 3)\n",
    "        print(n)\n",
    "        F(n // 3)\n",
    "F(9)"
   ]
  },
  {
   "cell_type": "code",
   "execution_count": 28,
   "id": "3411d0cc",
   "metadata": {},
   "outputs": [
    {
     "data": {
      "text/plain": [
       "(1531, 14932)"
      ]
     },
     "execution_count": 28,
     "metadata": {},
     "output_type": "execute_result"
    }
   ],
   "source": [
    "arr = [int(x) for x in open(\"17.txt\").readlines()]\n",
    "odds = list(filter(lambda x: x % 2 != 0, arr))\n",
    "mid = sum(odds) // len(odds)\n",
    "count = 0\n",
    "maxx = float(\"-inf\")\n",
    "for i in range(len(arr) - 1):\n",
    "    a = arr[i]\n",
    "    b = arr[i + 1]\n",
    "    if (a % 5 == 0 or b % 5 == 0) and (a < mid or b < mid):\n",
    "        count += 1\n",
    "        maxx = max(maxx, a + b)\n",
    "count, maxx"
   ]
  },
  {
   "cell_type": "code",
   "execution_count": 31,
   "id": "5987e191",
   "metadata": {
    "collapsed": true
   },
   "outputs": [
    {
     "name": "stdout",
     "output_type": "stream",
     "text": [
      "4 3\n",
      "8 4\n",
      "9 3\n",
      "10 2\n",
      "11 1\n",
      "12 1\n",
      "13 1\n",
      "14 1\n",
      "15 1\n",
      "16 1\n",
      "17 1\n",
      "18 1\n",
      "19 1\n",
      "20 1\n",
      "21 1\n",
      "22 1\n",
      "23 1\n",
      "24 1\n",
      "25 1\n",
      "26 1\n",
      "27 1\n",
      "28 1\n",
      "29 1\n",
      "30 1\n"
     ]
    }
   ],
   "source": [
    "# добавить в кучу один камень (действие А) или\n",
    "# утроить количество камней в куче, а затем убрать из кучи 2 камня\n",
    "def f(s, c, m):\n",
    "    if s > 30:\n",
    "        return c%2 == m%2\n",
    "    if c == m:\n",
    "        return 0\n",
    "    \n",
    "    h = [f(s+1, c+1, m), f(s*3 - 2, c+1, m)]\n",
    "    return any(h) if (c+1)%2 == m%2 else all(h)\n",
    "\n",
    "for s in range(2, 31):\n",
    "    for m in range(1, 5):\n",
    "        if f(s, 0, m):\n",
    "            print(s, m)\n",
    "            break"
   ]
  },
  {
   "cell_type": "code",
   "execution_count": 36,
   "id": "9677cf67",
   "metadata": {
    "collapsed": true
   },
   "outputs": [
    {
     "name": "stdout",
     "output_type": "stream",
     "text": [
      "598\n",
      "626\n",
      "654\n",
      "689\n",
      "906\n",
      "913\n",
      "1102\n",
      "1137\n",
      "1417\n",
      "3146\n",
      "3153\n",
      "3209\n"
     ]
    }
   ],
   "source": [
    "for i in range(10000000):\n",
    "    x = i\n",
    "    a = 0 \n",
    "    b = 1\n",
    "    while x > 0:\n",
    "        if x%2 > 0:\n",
    "            a += x%8\n",
    "        else:\n",
    "            b = b * (x%8)\n",
    "        x = x//8\n",
    "    if a == 2 and b == 12:\n",
    "        print(i)"
   ]
  },
  {
   "cell_type": "code",
   "execution_count": 37,
   "id": "cf0ad844",
   "metadata": {},
   "outputs": [
    {
     "data": {
      "text/plain": [
       "100"
      ]
     },
     "execution_count": 37,
     "metadata": {},
     "output_type": "execute_result"
    }
   ],
   "source": [
    "#1. Прибавить 2\n",
    "#2. Умножить на 2\n",
    "#3. Прибавить 3\n",
    "def tr(start, finish):\n",
    "    if start > finish:\n",
    "        return 0\n",
    "    if start == finish:\n",
    "        return 1\n",
    "    return tr(start + 2, finish) + tr(start * 2, finish) + tr(start + 3, finish)\n",
    "\n",
    "\n",
    "tr(2, 11)*tr(11, 22)"
   ]
  },
  {
   "cell_type": "code",
   "execution_count": 88,
   "id": "51a3b27a",
   "metadata": {},
   "outputs": [
    {
     "data": {
      "text/plain": [
       "(4, 287432, '*', '*', '*', '*', 'X')"
      ]
     },
     "execution_count": 88,
     "metadata": {},
     "output_type": "execute_result"
    }
   ],
   "source": [
    "s = open(\"24_demo.txt\").readline()\n",
    "s = s.replace(\"XYZ\", \"*\")\n",
    "count = 0\n",
    "maxx = float(\"-inf\")\n",
    "for i in range(len(s)):\n",
    "    if s[i] == \"*\":\n",
    "        count += 1\n",
    "        if count > maxx:\n",
    "            maxx = count\n",
    "            ind = i\n",
    "    else:\n",
    "        count = 0\n",
    "maxx, ind, s[287432-3], s[287432-2],s[287432-1], s[287432], s[287432+1]"
   ]
  },
  {
   "cell_type": "code",
   "execution_count": 93,
   "id": "e02663e6",
   "metadata": {},
   "outputs": [
    {
     "name": "stdout",
     "output_type": "stream",
     "text": [
      "45212176\n",
      "45265984\n",
      "47458321\n",
      "48469444\n"
     ]
    }
   ],
   "source": [
    "def p(x):\n",
    "    return x > 1 and all(x % i != 0 for i in range(2, int(x**0.5)+1))\n",
    "\n",
    "\n",
    "for i in range(45_000_000, 50_000_000+1):\n",
    "    t = i\n",
    "    while t % 2 == 0:\n",
    "        t //= 2\n",
    "    if int(t**0.25)**4 == t and p(int(t**0.25)):\n",
    "        print(i)"
   ]
  },
  {
   "cell_type": "code",
   "execution_count": null,
   "id": "b91da17a",
   "metadata": {},
   "outputs": [],
   "source": []
  }
 ],
 "metadata": {
  "kernelspec": {
   "display_name": "Python 3 (ipykernel)",
   "language": "python",
   "name": "python3"
  },
  "language_info": {
   "codemirror_mode": {
    "name": "ipython",
    "version": 3
   },
   "file_extension": ".py",
   "mimetype": "text/x-python",
   "name": "python",
   "nbconvert_exporter": "python",
   "pygments_lexer": "ipython3",
   "version": "3.10.2"
  }
 },
 "nbformat": 4,
 "nbformat_minor": 5
}
