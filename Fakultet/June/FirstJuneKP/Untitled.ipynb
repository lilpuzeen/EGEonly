{
 "cells": [
  {
   "cell_type": "code",
   "execution_count": null,
   "id": "a06c2c48",
   "metadata": {
    "pycharm": {
     "name": "#%%\n"
    }
   },
   "outputs": [],
   "source": [
    "#((a ∧ b) ≡ ¬c) ∧ (b → d)\n",
    "print('a b c d')\n",
    "for a in range(2):\n",
    "    for b in range(2):\n",
    "        for c in range(2):\n",
    "            for d in range(2):\n",
    "                if (((a and b) == (not c)) and (b <= d)):\n",
    "                    print(a, b, c, d)"
   ]
  },
  {
   "cell_type": "code",
   "execution_count": null,
   "id": "1eb5119f",
   "metadata": {
    "pycharm": {
     "name": "#%%\n"
    }
   },
   "outputs": [],
   "source": [
    "(600*2**13)/(512*300)"
   ]
  },
  {
   "cell_type": "code",
   "execution_count": 5,
   "id": "4688d2d2",
   "metadata": {
    "pycharm": {
     "name": "#%%\n"
    }
   },
   "outputs": [
    {
     "name": "stdout",
     "output_type": "stream",
     "text": [
      "195 ВДПР\n"
     ]
    }
   ],
   "source": [
    "from itertools import product\n",
    "i = 1\n",
    "for item in product(\"АВДПР\", repeat=4):\n",
    "    s = \"\".join(item)\n",
    "    if s.count(\"A\") == 0 and all(s.count(x) == 1 for x in \"ВДПР\"):\n",
    "        print(i, s)\n",
    "        break\n",
    "    i += 1"
   ]
  },
  {
   "cell_type": "code",
   "execution_count": 6,
   "id": "1d2dc3c1",
   "metadata": {
    "pycharm": {
     "name": "#%%\n"
    }
   },
   "outputs": [
    {
     "data": {
      "text/plain": [
       "'333333333333333333333333333333333330000000000000000000000000000003320000000'"
      ]
     },
     "execution_count": 6,
     "metadata": {},
     "output_type": "execute_result"
    }
   ],
   "source": [
    "def calc(x, a, b):\n",
    "    s = \"\"\n",
    "    x = int(str(x), a)\n",
    "    while x > 0:\n",
    "        s += str(x % b)\n",
    "        x //= b\n",
    "    return s[::-1]\n",
    "\n",
    "n = (64**25 + 4**10) - (16**20 + 32**3)\n",
    "calc(n, 10, 4)"
   ]
  },
  {
   "cell_type": "code",
   "execution_count": 8,
   "id": "5667db2a",
   "metadata": {
    "pycharm": {
     "name": "#%%\n"
    }
   },
   "outputs": [
    {
     "data": {
      "text/plain": [
       "84"
      ]
     },
     "execution_count": 8,
     "metadata": {},
     "output_type": "execute_result"
    }
   ],
   "source": [
    "def f(n):\n",
    "    if n == 0:\n",
    "        return 1\n",
    "    elif n == 1:\n",
    "        return 3\n",
    "    elif n > 1 and n % 2 == 0:\n",
    "        return f(n - 1) - f(n - 2) + 3*n\n",
    "    else:\n",
    "        return f(n-2) - f(n-3) + 2*n\n",
    "\n",
    "f(40)"
   ]
  },
  {
   "cell_type": "code",
   "execution_count": 2,
   "id": "5cde4209",
   "metadata": {
    "pycharm": {
     "name": "#%%\n"
    }
   },
   "outputs": [
    {
     "data": {
      "text/plain": [
       "(63, 6241)"
      ]
     },
     "execution_count": 2,
     "metadata": {},
     "output_type": "execute_result"
    }
   ],
   "source": [
    "arr = [int(x) for x in open(\"17.txt\").readlines()]\n",
    "count = 0\n",
    "maxx = float(\"-inf\")\n",
    "for i in range(len(arr) - 2):\n",
    "    a = arr[i]\n",
    "    b = arr[i + 1]\n",
    "    c = arr[i + 2]\n",
    "    if (b > 0) and (b % 10 == 9) and a <= 0 and c <= 0:\n",
    "        count += 1\n",
    "        maxx = max(maxx, a+b+c)\n",
    "count, maxx"
   ]
  },
  {
   "cell_type": "code",
   "execution_count": 21,
   "id": "0a948c3d",
   "metadata": {
    "pycharm": {
     "name": "#%%\n"
    }
   },
   "outputs": [
    {
     "data": {
      "text/plain": [
       "8"
      ]
     },
     "execution_count": 21,
     "metadata": {},
     "output_type": "execute_result"
    }
   ],
   "source": [
    "def tr(start, finish):\n",
    "    if start < finish:\n",
    "        return 0\n",
    "    if start == finish:\n",
    "        return 1\n",
    "    return tr(start - 8, finish) + tr(start // 2, finish)\n",
    "\n",
    "tr(102, 43)*tr(43, 5)"
   ]
  },
  {
   "cell_type": "code",
   "execution_count": 37,
   "id": "e8d6954e",
   "metadata": {
    "pycharm": {
     "name": "#%%\n"
    }
   },
   "outputs": [
    {
     "data": {
      "text/plain": [
       "6347"
      ]
     },
     "execution_count": 37,
     "metadata": {},
     "output_type": "execute_result"
    }
   ],
   "source": [
    "s = open(\"24-179.txt\").readline()\n",
    "count = 0\n",
    "lets = list(\"ABCDEF\")\n",
    "m = {x: 0 for x in lets}\n",
    "for i in range(len(s) - 4):\n",
    "    a, b, u, c, d = s[i], s[i+1], s[i+2], s[i+3], s[i+4]\n",
    "    if a == \"C\" and b == \"B\" and u in [\"C\", \"D\", \"E\"] and c == \"B\" and d == \"C\":\n",
    "        count += 1\n",
    "        m[u] += 1\n",
    "count"
   ]
  },
  {
   "cell_type": "code",
   "execution_count": 41,
   "id": "f571b2a6",
   "metadata": {
    "pycharm": {
     "name": "#%%\n"
    }
   },
   "outputs": [
    {
     "name": "stdout",
     "output_type": "stream",
     "text": [
      "520211 16781\n",
      "520993 47363\n",
      "521653 47423\n",
      "521947 16837\n",
      "522077 22699\n",
      "522203 47473\n",
      "522331 2081\n",
      "523193 47563\n",
      "524516 262258\n",
      "525327 175109\n",
      "525407 27653\n",
      "526517 2203\n",
      "526621 14233\n",
      "527593 47963\n",
      "527683 40591\n",
      "528529 727\n",
      "528593 40661\n",
      "528661 75523\n",
      "528721 1951\n",
      "528803 48073\n",
      "528916 264458\n",
      "529417 75631\n",
      "530409 176803\n",
      "530417 31201\n",
      "530491 40807\n",
      "530677 75811\n",
      "531034 265517\n",
      "531102 265551\n",
      "531107 27953\n",
      "532144 266072\n",
      "533203 48473\n",
      "533655 177885\n",
      "533754 266877\n",
      "533807 23209\n",
      "533917 2683\n",
      "534233 76319\n",
      "534375 178125\n",
      "534991 2801\n",
      "535097 28163\n",
      "535213 76459\n",
      "535403 48673\n",
      "535493 76499\n",
      "535507 76501\n",
      "535613 41201\n",
      "535661 76523\n",
      "535897 17287\n",
      "536183 4093\n",
      "536282 268141\n",
      "537119 48829\n",
      "537259 6473\n",
      "537314 268657\n",
      "537495 179165\n",
      "537541 8023\n",
      "538703 48973\n",
      "539819 77117\n",
      "539869 49079\n",
      "540516 270258\n",
      "540707 23509\n",
      "540797 28463\n",
      "542181 180727\n",
      "542385 180795\n",
      "543007 23609\n",
      "543413 41801\n",
      "544147 2069\n",
      "544597 28663\n",
      "545281 49571\n",
      "545355 181785\n",
      "545383 17593\n",
      "546443 6917\n",
      "546787 8161\n",
      "546852 273426\n",
      "547613 49783\n",
      "548052 274026\n",
      "548293 13373\n",
      "549017 78431\n",
      "549178 274589\n",
      "549239 12773\n",
      "549907 23909\n",
      "551024 275512\n",
      "551341 78763\n",
      "551867 9047\n",
      "552437 24019\n",
      "553943 42611\n",
      "554287 29173\n",
      "554561 79223\n",
      "554947 2063\n",
      "555214 277607\n",
      "555338 277669\n",
      "555983 6247\n",
      "556427 32731\n",
      "556951 2311\n",
      "557050 278525\n",
      "557453 42881\n",
      "558418 279209\n",
      "558620 279310\n",
      "559897 43069\n",
      "559987 29473\n",
      "560111 1801\n",
      "561353 43181\n",
      "561637 24419\n",
      "561887 29573\n",
      "563173 43321\n",
      "563527 7937\n",
      "563581 2671\n",
      "563801 80543\n",
      "564531 188177\n",
      "564649 6803\n",
      "564907 80701\n",
      "566463 188821\n",
      "566505 188835\n",
      "566512 283256\n",
      "566754 283377\n",
      "567210 283605\n",
      "567427 81061\n",
      "567587 29873\n",
      "567919 51629\n",
      "568373 43721\n",
      "568377 189459\n",
      "568427 2549\n",
      "569303 81329\n",
      "569704 284852\n",
      "570283 81469\n",
      "570521 81503\n",
      "571005 190335\n",
      "571277 81611\n",
      "571706 285853\n",
      "571791 190597\n",
      "572186 286093\n",
      "572237 33661\n",
      "572535 190845\n",
      "572887 81841\n",
      "573049 757\n",
      "573077 2179\n",
      "573137 24919\n",
      "573463 52133\n",
      "573703 44131\n",
      "574147 82021\n",
      "574541 52231\n",
      "574637 82091\n",
      "574984 287492\n",
      "575174 287587\n",
      "575981 82283\n",
      "576630 288315\n",
      "576837 192279\n",
      "576947 82421\n",
      "577248 288624\n",
      "577301 12283\n",
      "577727 8137\n",
      "577801 82543\n",
      "577877 13439\n",
      "578179 82597\n",
      "578707 10919\n",
      "578863 18673\n",
      "578903 44531\n",
      "579047 82721\n",
      "579097 2423\n",
      "579217 19973\n",
      "579413 4423\n",
      "579579 193193\n",
      "580199 13493\n",
      "580267 25229\n",
      "580550 290275\n",
      "581803 3853\n",
      "582347 2543\n",
      "582617 83231\n",
      "583155 194385\n",
      "584017 83431\n",
      "585017 20173\n",
      "585353 6577\n",
      "585679 8249\n",
      "586016 293008\n",
      "588719 14359\n",
      "589144 294572\n",
      "589413 196471\n",
      "589433 45341\n",
      "590223 196741\n",
      "591007 8821\n",
      "591151 53741\n",
      "591393 197131\n",
      "591587 2539\n",
      "591617 45509\n",
      "591909 197303\n",
      "592033 45541\n",
      "592038 296019\n",
      "592100 296050\n",
      "592109 84587\n",
      "592957 2659\n",
      "593333 45641\n",
      "593725 118745\n",
      "594752 297376\n",
      "594767 8377\n",
      "594854 297427\n",
      "595232 297616\n",
      "595245 198415\n",
      "595305 198435\n",
      "595421 13847\n",
      "595933 45841\n",
      "597427 2039\n",
      "598157 85451\n",
      "598544 299272\n",
      "598663 46051\n",
      "599997 199999\n"
     ]
    }
   ],
   "source": [
    "def p(x):\n",
    "    return x > 1 and all(x % i != 0 for i in range(2, int(x**0.5)+1))\n",
    "\n",
    "\n",
    "def div(x):\n",
    "    d = set()\n",
    "    for i in range(2, int(x**0.5)+1):\n",
    "        if x % i == 0:\n",
    "            d |= {i, x//i}\n",
    "    return sorted(d)\n",
    "\n",
    "\n",
    "for i in range(520_000+1, 600_000):\n",
    "    if p(i):\n",
    "        continue\n",
    "    k = div(i)\n",
    "    s = str(sum(k))\n",
    "    if s == s[::-1]:\n",
    "        print(i, k[-1])"
   ]
  },
  {
   "cell_type": "code",
   "execution_count": null,
   "id": "8b336241",
   "metadata": {
    "pycharm": {
     "name": "#%%\n"
    }
   },
   "outputs": [],
   "source": []
  }
 ],
 "metadata": {
  "kernelspec": {
   "display_name": "Python 3 (ipykernel)",
   "language": "python",
   "name": "python3"
  },
  "language_info": {
   "codemirror_mode": {
    "name": "ipython",
    "version": 3
   },
   "file_extension": ".py",
   "mimetype": "text/x-python",
   "name": "python",
   "nbconvert_exporter": "python",
   "pygments_lexer": "ipython3",
   "version": "3.10.2"
  }
 },
 "nbformat": 4,
 "nbformat_minor": 5
}