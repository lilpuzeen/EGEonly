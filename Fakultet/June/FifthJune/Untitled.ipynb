{
 "cells": [
  {
   "cell_type": "code",
   "execution_count": null,
   "id": "555059bf",
   "metadata": {},
   "outputs": [],
   "source": [
    "# (x → y) ∧ (y → z)\n",
    "print(\"x y z\")\n",
    "for x in range(2):\n",
    "    for y in range(2):\n",
    "        for z in range(2):\n",
    "            if ((x <= y) and (y <= z)):\n",
    "                print(x, y, z)"
   ]
  },
  {
   "cell_type": "code",
   "execution_count": null,
   "id": "2d311b40",
   "metadata": {},
   "outputs": [],
   "source": [
    "#10 -> 43\n",
    "f1 = lambda x: x + 7\n",
    "f2 = lambda x: x - 4\n",
    "n = 10\n",
    "for i in range(1, 6):\n",
    "    n = f1(n)\n",
    "#5*f1 -> 45 \n",
    "#f2 -> 41\n",
    "#f1 -> 48\n",
    "#2*f2 -> 40\n",
    "#f1 -> 47\n",
    "#f2 -> 43"
   ]
  },
  {
   "cell_type": "code",
   "execution_count": null,
   "id": "bd242134",
   "metadata": {},
   "outputs": [],
   "source": [
    "n = 4\n",
    "s = 0\n",
    "while n <= 8:\n",
    "    s += n\n",
    "    n += 1\n",
    "print(s)"
   ]
  },
  {
   "cell_type": "code",
   "execution_count": null,
   "id": "a171d88f",
   "metadata": {},
   "outputs": [],
   "source": [
    "(512 * 2**13) / (1024*1024)"
   ]
  },
  {
   "cell_type": "code",
   "execution_count": null,
   "id": "d95c27ab",
   "metadata": {},
   "outputs": [],
   "source": [
    "30 / 8"
   ]
  },
  {
   "cell_type": "code",
   "execution_count": null,
   "id": "48ebbdd4",
   "metadata": {},
   "outputs": [],
   "source": [
    "s = \"1\" * 77\n",
    "while \"11\" in s:\n",
    "    if \"222\" in s:\n",
    "        s = s.replace(\"222\", \"1\", 1)\n",
    "    else:\n",
    "        s = s.replace(\"11\", \"2\", 1)\n",
    "s"
   ]
  },
  {
   "cell_type": "code",
   "execution_count": null,
   "id": "24cf1512",
   "metadata": {},
   "outputs": [],
   "source": [
    "def calc(x, a, b):\n",
    "    s = \"\"\n",
    "    x = int(str(x), a)\n",
    "    while x > 0:\n",
    "        s += str(x % b)\n",
    "        x //= b\n",
    "    return s[::-1]\n",
    "\n",
    "#9\n",
    "for i in range(2, 30):\n",
    "    s = calc(31, 10, i)\n",
    "    if s[-1] == \"4\":\n",
    "        print(s, i)"
   ]
  },
  {
   "cell_type": "code",
   "execution_count": null,
   "id": "cd675ae8",
   "metadata": {},
   "outputs": [],
   "source": [
    "# (y + 2x ≠ 48) ∨ (A < x) ∨ (x < y)\n",
    "a = 1\n",
    "while True:\n",
    "    for x in range(1000):\n",
    "        for y in range(1000):\n",
    "            if not((y + 2*x != 48) or (a < x) or (x < y)):\n",
    "                break\n",
    "        else:\n",
    "            continue\n",
    "        break\n",
    "    else:\n",
    "        print(a)\n",
    "    a += 1"
   ]
  },
  {
   "cell_type": "code",
   "execution_count": null,
   "id": "839d2aa8",
   "metadata": {},
   "outputs": [],
   "source": [
    "# F(n) = F(n–1) * n + F(n–2) * (n – 1) , при n >2\n",
    "def f(n):\n",
    "    if n == 1:\n",
    "        return 1\n",
    "    if n == 2:\n",
    "        return 3\n",
    "    if n > 2:\n",
    "        return f(n - 1) * n + f(n - 2)*(n - 1)\n",
    "\n",
    "f(5)"
   ]
  },
  {
   "cell_type": "code",
   "execution_count": null,
   "id": "38291b8f",
   "metadata": {},
   "outputs": [],
   "source": [
    "arr = [int(x) for x in open(\"17.txt\").readlines()]\n",
    "count, maxx = 0, float(\"-inf\")\n",
    "for i in range(len(arr) - 1):\n",
    "    a = arr[i]\n",
    "    b = arr[i + 1]\n",
    "    if (a % 3 == 0) or (b % 3 == 0):\n",
    "        count += 1\n",
    "        maxx = max(a+b, maxx)\n",
    "count, maxx"
   ]
  },
  {
   "cell_type": "code",
   "execution_count": null,
   "id": "31c37ccf",
   "metadata": {},
   "outputs": [],
   "source": [
    "def f(a, b, c, m):\n",
    "    if (a+b) >= 107:\n",
    "        return c%2 == m%2\n",
    "    if c == m:\n",
    "        return 0\n",
    "    h = [f(a + 1, b, c+1, m), f(a, b + 1, c+1, m), f(a * 2, b, c+1, m), f(a, b * 2, c+1, m)]\n",
    "    return any(h) if (c+1)%2 == m%2 else all(h)\n",
    "\n",
    "for b in range(1, 94):\n",
    "    for m in range(1, 5):\n",
    "        if f(13, b, 0, m):\n",
    "            print(b, m)\n",
    "            break"
   ]
  },
  {
   "cell_type": "code",
   "execution_count": 57,
   "id": "b6a801bd",
   "metadata": {},
   "outputs": [
    {
     "name": "stdout",
     "output_type": "stream",
     "text": [
      "191\n",
      "319\n",
      "447\n",
      "455\n",
      "471\n",
      "487\n",
      "503\n",
      "504\n",
      "506\n",
      "508\n",
      "510\n"
     ]
    }
   ],
   "source": [
    "for i in range(1000):\n",
    "    x = i\n",
    "    L = 0 \n",
    "    M = 0\n",
    "    while x > 0 :\n",
    "        M = M+1\n",
    "        if (x % 2) != 0:\n",
    "            L = L + x % 8\n",
    "        x = x // 8 \n",
    "    if L == 14 and M == 3:\n",
    "        print(i)"
   ]
  },
  {
   "cell_type": "code",
   "execution_count": 69,
   "id": "b96c85f7",
   "metadata": {},
   "outputs": [
    {
     "data": {
      "text/plain": [
       "{0, 1, 2}"
      ]
     },
     "execution_count": 69,
     "metadata": {},
     "output_type": "execute_result"
    }
   ],
   "source": [
    "def tr(start, finish, count):\n",
    "    if start > finish:\n",
    "        return 0\n",
    "    if start == finish:\n",
    "        return 1\n",
    "    if count == 3:\n",
    "        return 0\n",
    "    return tr(start+2, finish, count+1) + tr(start*3, finish, count+1)\n",
    "\n",
    "d = set()\n",
    "for i in range(3, 10000):\n",
    "    d.add(tr(2, i, 0))\n",
    "d"
   ]
  },
  {
   "cell_type": "code",
   "execution_count": 70,
   "id": "6ba96a44",
   "metadata": {},
   "outputs": [
    {
     "data": {
      "text/plain": [
       "282"
      ]
     },
     "execution_count": 70,
     "metadata": {},
     "output_type": "execute_result"
    }
   ],
   "source": [
    "s = open(\"24.txt\").readline()\n",
    "s = s.split(\"A\")\n",
    "maxx = float(\"-inf\")\n",
    "for i in range(len(s)):\n",
    "    if s[i].count(\"E\") >= 3:\n",
    "        maxx = max(maxx, len(s[i]))\n",
    "    else:\n",
    "        continue\n",
    "maxx"
   ]
  },
  {
   "cell_type": "code",
   "execution_count": 75,
   "id": "4d79bf02",
   "metadata": {},
   "outputs": [
    {
     "data": {
      "text/plain": [
       "(15, 976339247)"
      ]
     },
     "execution_count": 75,
     "metadata": {},
     "output_type": "execute_result"
    }
   ],
   "source": [
    "f = open(\"26.txt\")\n",
    "n = int(f.readline())\n",
    "arr = [int(x) for x in f.readlines()]\n",
    "d = set(arr)\n",
    "count = 0\n",
    "maxx = -10000000\n",
    "for i in range(len(arr)):\n",
    "    for j in range(i+1, len(arr)):\n",
    "        a = arr[i]\n",
    "        b = arr[j]\n",
    "        if (((a + b) // 2) in d) and (a % 2 == 0) and (b % 2 == 0):\n",
    "            count += 1\n",
    "            maxx = max(maxx, (a+b)//2)\n",
    "count, maxx"
   ]
  },
  {
   "cell_type": "code",
   "execution_count": 76,
   "id": "a780f0c9",
   "metadata": {},
   "outputs": [
    {
     "data": {
      "text/plain": [
       "12500000.0"
      ]
     },
     "execution_count": 76,
     "metadata": {},
     "output_type": "execute_result"
    }
   ],
   "source": [
    "(5000**2)/2"
   ]
  },
  {
   "cell_type": "code",
   "execution_count": null,
   "id": "134cc590",
   "metadata": {},
   "outputs": [],
   "source": []
  }
 ],
 "metadata": {
  "kernelspec": {
   "display_name": "Python 3 (ipykernel)",
   "language": "python",
   "name": "python3"
  },
  "language_info": {
   "codemirror_mode": {
    "name": "ipython",
    "version": 3
   },
   "file_extension": ".py",
   "mimetype": "text/x-python",
   "name": "python",
   "nbconvert_exporter": "python",
   "pygments_lexer": "ipython3",
   "version": "3.10.2"
  }
 },
 "nbformat": 4,
 "nbformat_minor": 5
}
