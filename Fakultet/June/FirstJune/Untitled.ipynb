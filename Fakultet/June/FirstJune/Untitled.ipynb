{
 "cells": [
  {
   "cell_type": "code",
   "execution_count": null,
   "id": "c4a37d47",
   "metadata": {},
   "outputs": [],
   "source": [
    "print(\"x y w z\")\n",
    "for x in range(2):\n",
    "    for y in range(2):\n",
    "        for w in range(2):\n",
    "            for z in range(2):\n",
    "                if not(((x <= y) == (z <= w)) or (x and w)):\n",
    "                    print(x, y, w, z)"
   ]
  },
  {
   "cell_type": "code",
   "execution_count": null,
   "id": "e996f8d7",
   "metadata": {},
   "outputs": [],
   "source": [
    "int(\"0011\", 2)"
   ]
  },
  {
   "cell_type": "code",
   "execution_count": null,
   "id": "4fc705d2",
   "metadata": {},
   "outputs": [],
   "source": [
    "0110\"0\" 0101\"0\" 0100\"1\" 0011 (6543)"
   ]
  },
  {
   "cell_type": "code",
   "execution_count": null,
   "id": "bad5f10e",
   "metadata": {},
   "outputs": [],
   "source": [
    "bin(107)[2:]"
   ]
  },
  {
   "cell_type": "code",
   "execution_count": null,
   "id": "7362575d",
   "metadata": {},
   "outputs": [],
   "source": [
    "int(\"0101100\", 2)"
   ]
  },
  {
   "cell_type": "code",
   "execution_count": null,
   "id": "922e1fb2",
   "metadata": {},
   "outputs": [],
   "source": [
    "s = 0\n",
    "k = 1\n",
    "while s < 66:\n",
    "    k += 3\n",
    "    s += k\n",
    "print(k)"
   ]
  },
  {
   "cell_type": "code",
   "execution_count": 5,
   "id": "15e088e1",
   "metadata": {},
   "outputs": [
    {
     "name": "stdout",
     "output_type": "stream",
     "text": [
      "8899\n"
     ]
    }
   ],
   "source": [
    "s = \"9\"*1000\n",
    "while (\"999\" in s) or (\"888\" in s):\n",
    "    if \"888\" in s:\n",
    "        s = s.replace(\"888\", \"9\", 1)\n",
    "    else:\n",
    "        s = s.replace(\"999\", \"8\", 1)\n",
    "print(s)"
   ]
  },
  {
   "cell_type": "code",
   "execution_count": null,
   "id": "33885dbb",
   "metadata": {},
   "outputs": [],
   "source": [
    "n = 4**2020 + 2**2017 - 15\n",
    "bin(n)[2:].count(\"1\")"
   ]
  },
  {
   "cell_type": "code",
   "execution_count": null,
   "id": "39c9bb05",
   "metadata": {},
   "outputs": [],
   "source": [
    "a = 1\n",
    "while True:\n",
    "    for x in range(1000):\n",
    "        for y in range(1000):\n",
    "            if not((2*x + 3*y < 30) or (x + y >= a)):\n",
    "                break\n",
    "        else:\n",
    "            continue\n",
    "        break\n",
    "    else:\n",
    "        print(a)\n",
    "    a += 1"
   ]
  },
  {
   "cell_type": "code",
   "execution_count": null,
   "id": "a9adbae9",
   "metadata": {},
   "outputs": [],
   "source": [
    "def f(n):\n",
    "    if n > 0:\n",
    "        f(n//4)\n",
    "        print(n)\n",
    "        f(n - 1)\n",
    "f(5)"
   ]
  },
  {
   "cell_type": "code",
   "execution_count": 6,
   "id": "0ef3f19c",
   "metadata": {},
   "outputs": [
    {
     "data": {
      "text/plain": [
       "(14, 679730035)"
      ]
     },
     "execution_count": 6,
     "metadata": {},
     "output_type": "execute_result"
    }
   ],
   "source": [
    "f = open(\"26-3.txt\")\n",
    "n = int(f.readline())\n",
    "arr = sorted([int(x) for x in f.readlines()])\n",
    "unique = set(arr)\n",
    "count = 0\n",
    "maxx = float('-inf')\n",
    "for i in range(len(arr)):\n",
    "    for j in range(i + 1, len(arr)):\n",
    "        a = arr[i]\n",
    "        b = arr[j]\n",
    "        if a % 2 != 0 and b % 2 != 0:\n",
    "            mid = (a + b) // 2\n",
    "            if mid in unique:\n",
    "                count += 1\n",
    "                maxx = max(mid, maxx)\n",
    "        else:\n",
    "            continue\n",
    "count, maxx"
   ]
  },
  {
   "cell_type": "code",
   "execution_count": null,
   "id": "16681a52",
   "metadata": {},
   "outputs": [],
   "source": [
    "from functools import lru_cache\n",
    "\n",
    "def moves(h):\n",
    "    a, b = h\n",
    "    return (a + 1, b), (a, b + 1), (a * 2, b), (a, b * 3)\n",
    "\n",
    "\n",
    "@lru_cache(None)\n",
    "def game(h):\n",
    "    if sum(h) >= 69:\n",
    "        return \"W\"\n",
    "    if any(game(m) == \"W\" for m in moves(h)):\n",
    "        return \"P1\"\n",
    "    if all(game(m) == \"P1\" for m in moves(h)):\n",
    "        return \"B1\"\n",
    "    if any(game(m) == \"B1\" for m in moves(h)):\n",
    "        return \"P2\"\n",
    "    if all(game(m) == \"P1\" or game(m) == \"P2\" for m in moves(h)):\n",
    "        return \"B1/2\"\n",
    "\n",
    "for s in range(1, 59):\n",
    "    if game((10, s)) is not None:\n",
    "        print(s, game((10, s)))"
   ]
  },
  {
   "cell_type": "code",
   "execution_count": null,
   "id": "9497365f",
   "metadata": {},
   "outputs": [],
   "source": [
    "def tr(start, finish):\n",
    "    if start > finish:\n",
    "        return 0\n",
    "    if start == finish:\n",
    "        return 1\n",
    "    return tr(start + 1, finish) + tr(start + 2, finish) + tr(start * 2, finish)\n",
    "\n",
    "tr(3, 10)*tr(10, 12)"
   ]
  },
  {
   "cell_type": "code",
   "execution_count": null,
   "id": "c3593aed",
   "metadata": {},
   "outputs": [],
   "source": [
    "s = open(\"24-2.txt\").readline()\n",
    "arr = s.split(\"XZZY\")\n",
    "arr = list(map(len, arr))\n",
    "arr = [x + 6 for x in arr]\n",
    "max(arr)"
   ]
  },
  {
   "cell_type": "code",
   "execution_count": null,
   "id": "63233559",
   "metadata": {},
   "outputs": [],
   "source": [
    "def one(x):\n",
    "    x = str(x)[1:]\n",
    "    return x + \"0\"\n",
    "\n",
    "\n",
    "def two(x):\n",
    "    x = int(str(x), 2)\n",
    "    x -= 1\n",
    "    return bin(x)[2:]\n",
    "\n",
    "\n",
    "#112112\n",
    "n = bin(91)\n",
    "n = one(n)\n",
    "n = one(n)\n",
    "n = two(n)\n",
    "n = one(n)\n",
    "n = one(n)\n",
    "n = two(n)"
   ]
  },
  {
   "cell_type": "code",
   "execution_count": 4,
   "id": "174662fc",
   "metadata": {},
   "outputs": [
    {
     "name": "stdout",
     "output_type": "stream",
     "text": [
      "45212176\n",
      "45265984\n",
      "47458321\n",
      "48469444\n"
     ]
    }
   ],
   "source": [
    "def p(x):\n",
    "    return x > 1 and all(x % i != 0 for i in range(2, int(x ** 0.5) + 1))\n",
    "\n",
    "\n",
    "for y in range(45_000_000, 50_000_000 + 1):\n",
    "    t = y\n",
    "    while t % 2 == 0:\n",
    "        t = t // 2\n",
    "    if int(t ** 0.25) ** 4 == t and p(int(t ** 0.25)):\n",
    "        print(y)\n"
   ]
  },
  {
   "cell_type": "code",
   "execution_count": 119,
   "id": "e7690feb",
   "metadata": {},
   "outputs": [
    {
     "name": "stdout",
     "output_type": "stream",
     "text": [
      "8819088760\n"
     ]
    }
   ],
   "source": [
    "from itertools import product\n",
    "from functools import lru_cache\n",
    "f = open(\"27_B.txt\")\n",
    "n = int(f.readline())\n",
    "s = [0]\n",
    "@lru_cache(None)\n",
    "def cikl():\n",
    "    global f, n, s\n",
    "    for i in range(n):\n",
    "        troika = [int(x) for x in f.readline().split()]\n",
    "        new_sum = [a + b for a in s for b in troika]\n",
    "        new_sum.sort()\n",
    "        s = set(new_sum[-1000:])\n",
    "    print(max(x for x in s if x % 109 != 0))\n",
    "cikl()"
   ]
  },
  {
   "cell_type": "code",
   "execution_count": 3,
   "id": "e00939c4",
   "metadata": {},
   "outputs": [
    {
     "data": {
      "text/plain": [
       "24"
      ]
     },
     "execution_count": 3,
     "metadata": {},
     "output_type": "execute_result"
    }
   ],
   "source": [
    "from itertools import product\n",
    "\n",
    "lets = [\"Н\", \"А\", \"С\", \"Т\", \"Я\"]\n",
    "glas = []\n",
    "soglas = []\n",
    "count = 0\n",
    "\n",
    "for i in product(\"НСТ\", repeat=2):\n",
    "    soglas.append(\"\".join(i))\n",
    "\n",
    "for i in product(\"АЯ\", repeat=2):\n",
    "    soglas.append(\"\".join(i))\n",
    "\n",
    "for item in product(lets, repeat=4):\n",
    "    s = \"\".join(item)\n",
    "    if all(s.count(i) <= 1 for i in lets) and all(x not in s for x in soglas):\n",
    "        count += 1\n",
    "count"
   ]
  },
  {
   "cell_type": "code",
   "execution_count": null,
   "id": "bb697ce6",
   "metadata": {},
   "outputs": [],
   "source": []
  }
 ],
 "metadata": {
  "kernelspec": {
   "display_name": "Python 3 (ipykernel)",
   "language": "python",
   "name": "python3"
  },
  "language_info": {
   "codemirror_mode": {
    "name": "ipython",
    "version": 3
   },
   "file_extension": ".py",
   "mimetype": "text/x-python",
   "name": "python",
   "nbconvert_exporter": "python",
   "pygments_lexer": "ipython3",
   "version": "3.10.2"
  }
 },
 "nbformat": 4,
 "nbformat_minor": 5
}
