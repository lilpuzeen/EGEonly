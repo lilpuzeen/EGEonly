{
 "cells": [
  {
   "cell_type": "code",
   "execution_count": null,
   "id": "45d2e231",
   "metadata": {},
   "outputs": [],
   "source": [
    "print(\"x y z\")\n",
    "for x in range(2):\n",
    "    for y in range(2):\n",
    "        for z in range(2):\n",
    "            if (not z) and x:\n",
    "                print(x, y, z)"
   ]
  },
  {
   "cell_type": "code",
   "execution_count": null,
   "id": "3a63d27d",
   "metadata": {},
   "outputs": [],
   "source": [
    "d = set()\n",
    "for i in range(10, 1000+1):\n",
    "    n = bin(i)[2:]\n",
    "    n = n.removeprefix(\"1\")\n",
    "    for let in n:\n",
    "        if let == \"0\":\n",
    "            n = n.removeprefix(\"0\")\n",
    "        else:\n",
    "            break\n",
    "    if n == \"\":\n",
    "        d.add(0)\n",
    "        continue\n",
    "    res = int(n, 2)\n",
    "    d.add(i - res)\n",
    "len(d), d"
   ]
  },
  {
   "cell_type": "code",
   "execution_count": null,
   "id": "465f5e99",
   "metadata": {},
   "outputs": [],
   "source": [
    "s = 0\n",
    "n = 170\n",
    "while s + n < 325:\n",
    "    s = s + 25\n",
    "    n = n - 5\n",
    "print(s)"
   ]
  },
  {
   "cell_type": "code",
   "execution_count": null,
   "id": "850aff5e",
   "metadata": {},
   "outputs": [],
   "source": [
    "(5625 * 2**23) / (48000 * 24 * 2)"
   ]
  },
  {
   "cell_type": "code",
   "execution_count": null,
   "id": "0e9ab3df",
   "metadata": {},
   "outputs": [],
   "source": [
    "20480 / 60"
   ]
  },
  {
   "cell_type": "code",
   "execution_count": null,
   "id": "ce2e2b54",
   "metadata": {},
   "outputs": [],
   "source": [
    "from itertools import permutations\n",
    "lets = list(\"МАТВЕЙ\")\n",
    "count = 0\n",
    "for i in permutations(lets, r=6):\n",
    "    s = \"\".join(i)\n",
    "    if s[0] != \"Й\" and \"АЕ\" not in s:\n",
    "        count += 1\n",
    "count"
   ]
  },
  {
   "cell_type": "code",
   "execution_count": null,
   "id": "41f8aa98",
   "metadata": {},
   "outputs": [],
   "source": [
    "def calc(x, a, b):\n",
    "    s = \"\"\n",
    "    x = int(str(x), a)\n",
    "    while x > 0:\n",
    "        s += str(x % b)\n",
    "        x //= b\n",
    "    return s[::-1]\n",
    "\n",
    "\n",
    "for i in range(10000):\n",
    "    if len(calc(i, 10, 6)) == 2 and len(calc(i, 10, 5)) == 3 and calc(i, 10, 11).endswith(\"1\"):\n",
    "        print(i)"
   ]
  },
  {
   "cell_type": "code",
   "execution_count": null,
   "id": "122845b4",
   "metadata": {},
   "outputs": [],
   "source": [
    "def f(n):\n",
    "    if n == 1:\n",
    "        return 1\n",
    "    if n > 1:\n",
    "        return f(n - 1) + n\n",
    "f(40)"
   ]
  },
  {
   "cell_type": "code",
   "execution_count": null,
   "id": "f373ef85",
   "metadata": {},
   "outputs": [],
   "source": [
    "arr = [int(x) for x in open(\"107_17.txt\")]\n",
    "k = min(list(filter(lambda x: x % 21 == 0, arr)))\n",
    "maxx, count = float('-inf'), 0\n",
    "for i in range(len(arr) - 1):\n",
    "    a = arr[i]\n",
    "    b = arr[i + 1]\n",
    "    if a % k == 0 or b % k == 0:\n",
    "        count += 1\n",
    "        maxx = max(a + b, maxx)\n",
    "count, maxx"
   ]
  },
  {
   "cell_type": "code",
   "execution_count": null,
   "id": "4b623437",
   "metadata": {},
   "outputs": [],
   "source": [
    "for i in range(10000):\n",
    "    x = i\n",
    "    a = 0\n",
    "    b = 0\n",
    "    while x > 0:\n",
    "        if x % 2 == 0:\n",
    "            a += 1\n",
    "        else:\n",
    "            b += x % 6\n",
    "        x = x//6\n",
    "    if a == 2 and b == 4:\n",
    "        print(i)"
   ]
  },
  {
   "cell_type": "code",
   "execution_count": 27,
   "id": "6485700e",
   "metadata": {},
   "outputs": [
    {
     "data": {
      "text/plain": [
       "520"
      ]
     },
     "execution_count": 27,
     "metadata": {},
     "output_type": "execute_result"
    }
   ],
   "source": [
    "def tr(start, end):\n",
    "    if start > end:\n",
    "        return 0\n",
    "    if start == end:\n",
    "        return 1\n",
    "    if start == 15:\n",
    "        return 0\n",
    "    return tr(start + 1, end) + tr(start + 2, end)\n",
    "\n",
    "tr(3, 9)*tr(9, 20)"
   ]
  },
  {
   "cell_type": "code",
   "execution_count": 38,
   "id": "fda97d21",
   "metadata": {},
   "outputs": [
    {
     "name": "stdout",
     "output_type": "stream",
     "text": [
      "764 23\n",
      "849 23\n",
      "909 23\n"
     ]
    },
    {
     "data": {
      "text/plain": [
       "[('Y', 53),\n",
       " ('C', 53),\n",
       " ('U', 46),\n",
       " ('M', 43),\n",
       " ('I', 41),\n",
       " ('L', 41),\n",
       " ('W', 41),\n",
       " ('Q', 41),\n",
       " ('A', 40),\n",
       " ('P', 40),\n",
       " ('F', 39),\n",
       " ('T', 39),\n",
       " ('H', 37),\n",
       " ('X', 37),\n",
       " ('V', 37),\n",
       " ('K', 36),\n",
       " ('R', 35),\n",
       " ('Z', 34),\n",
       " ('O', 34),\n",
       " ('E', 34),\n",
       " ('J', 34),\n",
       " ('G', 34),\n",
       " ('B', 33),\n",
       " ('D', 33),\n",
       " ('S', 31),\n",
       " ('N', 23),\n",
       " ('\\n', 1)]"
      ]
     },
     "execution_count": 38,
     "metadata": {},
     "output_type": "execute_result"
    }
   ],
   "source": [
    "from collections import Counter\n",
    "arr = [str(x) for x in open('24.txt').readlines()]\n",
    "lens = [x.count(\"N\") for x in arr]\n",
    "for i, j in enumerate(lens):\n",
    "    if j == 23:\n",
    "        print(i, j)\n",
    "Counter(arr[764]).most_common()"
   ]
  },
  {
   "cell_type": "code",
   "execution_count": 11,
   "id": "c5a8e24a",
   "metadata": {},
   "outputs": [
    {
     "ename": "KeyboardInterrupt",
     "evalue": "",
     "output_type": "error",
     "traceback": [
      "\u001b[0;31m---------------------------------------------------------------------------\u001b[0m",
      "\u001b[0;31mKeyboardInterrupt\u001b[0m                         Traceback (most recent call last)",
      "Input \u001b[0;32mIn [11]\u001b[0m, in \u001b[0;36m<cell line: 5>\u001b[0;34m()\u001b[0m\n\u001b[1;32m      9\u001b[0m             b \u001b[38;5;241m=\u001b[39m arr[j]\n\u001b[1;32m     10\u001b[0m             c \u001b[38;5;241m=\u001b[39m arr[k]\n\u001b[0;32m---> 11\u001b[0m             \u001b[38;5;28;01mif\u001b[39;00m (a\u001b[38;5;241m+\u001b[39mb\u001b[38;5;241m+\u001b[39mc) \u001b[38;5;241m%\u001b[39m \u001b[38;5;241m3\u001b[39m \u001b[38;5;241m==\u001b[39m \u001b[38;5;241m0\u001b[39m:\n\u001b[1;32m     12\u001b[0m                 minn \u001b[38;5;241m=\u001b[39m \u001b[38;5;28mmin\u001b[39m(a \u001b[38;5;241m+\u001b[39m b \u001b[38;5;241m+\u001b[39m c, minn)\n\u001b[1;32m     13\u001b[0m minn\n",
      "\u001b[0;31mKeyboardInterrupt\u001b[0m: "
     ]
    }
   ],
   "source": [
    "f = open(\"27-B.txt\")\n",
    "n = int(f.readline())\n",
    "arr = [int(x) for x in f.readlines()]\n",
    "minn = float(\"inf\")\n",
    "for i in range(n):\n",
    "    for j in range(i + 1, n):\n",
    "        for k in range(j + 1, n):\n",
    "            a = arr[i]\n",
    "            b = arr[j]\n",
    "            c = arr[k]\n",
    "            if (a+b+c) % 3 == 0:\n",
    "                minn = min(a + b + c, minn)\n",
    "minn"
   ]
  },
  {
   "cell_type": "code",
   "execution_count": 10,
   "id": "9cfbf80c",
   "metadata": {},
   "outputs": [
    {
     "data": {
      "text/plain": [
       "1000000000000000"
      ]
     },
     "execution_count": 10,
     "metadata": {},
     "output_type": "execute_result"
    }
   ],
   "source": [
    "100_000**3"
   ]
  },
  {
   "cell_type": "code",
   "execution_count": 17,
   "id": "7d0318e4",
   "metadata": {},
   "outputs": [
    {
     "data": {
      "text/plain": [
       "19851"
      ]
     },
     "execution_count": 17,
     "metadata": {},
     "output_type": "execute_result"
    }
   ],
   "source": [
    "f = open(\"27-B.txt\")\n",
    "n = int(f.readline())\n",
    "arr = [int(x) for x in f.readlines()]\n",
    "minn = float(\"inf\")\n",
    "s = [1000000000000]*3\n",
    "for i in range(n):\n",
    "    if arr[i] < s[arr[i] % 3]:\n",
    "        s[arr[i] % 3] = arr[i]\n",
    "sum(s)"
   ]
  },
  {
   "cell_type": "code",
   "execution_count": 26,
   "id": "0d6b5146",
   "metadata": {},
   "outputs": [
    {
     "name": "stdout",
     "output_type": "stream",
     "text": [
      "21 1\n",
      "22 1\n",
      "23 1\n",
      "24 1\n",
      "25 1\n",
      "26 1\n",
      "27 1\n",
      "28 1\n",
      "29 1\n",
      "30 1\n",
      "31 1\n",
      "32 1\n",
      "33 1\n",
      "34 1\n",
      "35 1\n",
      "36 1\n",
      "37 1\n",
      "38 1\n",
      "39 1\n",
      "40 1\n",
      "41 2\n",
      "42 3\n",
      "43 3\n",
      "44 4\n",
      "61 3\n",
      "81 3\n",
      "82 3\n"
     ]
    }
   ],
   "source": [
    "def f(a, b, c, m):\n",
    "    if a + b <= 40: return c%2 == m%2\n",
    "    if c == m: return 0\n",
    "    h = [f(a - 1, b, c+1, m), f(a, b-1, c+1, m), f((a+1)//2, b, c+1, m), f(a,(b+1)//2, c+1, m)]\n",
    "    return any(h) if (c+1)%2 == m%2 else all(h)\n",
    "\n",
    "for b in range(21, 200):\n",
    "    for m in range(1, 5):\n",
    "        if f(20, b, 0, m)==1:\n",
    "            print(b, m)\n",
    "            break"
   ]
  },
  {
   "cell_type": "code",
   "execution_count": null,
   "id": "4fe9a620",
   "metadata": {},
   "outputs": [],
   "source": []
  }
 ],
 "metadata": {
  "kernelspec": {
   "display_name": "Python 3 (ipykernel)",
   "language": "python",
   "name": "python3"
  },
  "language_info": {
   "codemirror_mode": {
    "name": "ipython",
    "version": 3
   },
   "file_extension": ".py",
   "mimetype": "text/x-python",
   "name": "python",
   "nbconvert_exporter": "python",
   "pygments_lexer": "ipython3",
   "version": "3.10.2"
  }
 },
 "nbformat": 4,
 "nbformat_minor": 5
}
