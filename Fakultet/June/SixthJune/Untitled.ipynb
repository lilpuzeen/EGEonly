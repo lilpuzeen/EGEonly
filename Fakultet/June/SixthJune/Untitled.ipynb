{
 "cells": [
  {
   "cell_type": "code",
   "execution_count": null,
   "id": "0f4777ea",
   "metadata": {
    "pycharm": {
     "name": "#%%\n"
    }
   },
   "outputs": [],
   "source": [
    "# (x ≡ y ) ∨ ((y ∨ z) → x)\n",
    "print(\"x y z\")\n",
    "for x in range(2):\n",
    "    for y in range(2):\n",
    "        for z in range(2):\n",
    "            if not((x == y) or ((y or z) <= x)):\n",
    "                print(x, y, z)"
   ]
  },
  {
   "cell_type": "code",
   "execution_count": null,
   "id": "d8ad78c1",
   "metadata": {
    "pycharm": {
     "name": "#%%\n"
    }
   },
   "outputs": [],
   "source": [
    "for i in range(1, 100):\n",
    "    n = bin(i)[2:]\n",
    "    if n.count(\"1\") % 2 != 0:\n",
    "        n += \"1\"\n",
    "    else:\n",
    "        n += \"0\"\n",
    "    if n.count(\"1\") % 2 != 0:\n",
    "        n += \"1\"\n",
    "    else:\n",
    "        n += \"0\"\n",
    "    if int(n, 2) > 43:\n",
    "        print(int(n, 2))"
   ]
  },
  {
   "cell_type": "code",
   "execution_count": null,
   "id": "0b4f2af0",
   "metadata": {
    "pycharm": {
     "name": "#%%\n"
    }
   },
   "outputs": [],
   "source": [
    "n = 1\n",
    "s = 0\n",
    "while n <= 100:\n",
    "    s = s + 30\n",
    "    n = n * 3\n",
    "print(s)"
   ]
  },
  {
   "cell_type": "code",
   "execution_count": null,
   "id": "5bc3c1a9",
   "metadata": {
    "pycharm": {
     "name": "#%%\n"
    }
   },
   "outputs": [],
   "source": [
    "from itertools import product\n",
    "lets = list(\"ЗИМА\")\n",
    "count = 0\n",
    "for item in product(lets, repeat=5):\n",
    "    s = \"\".join(item)\n",
    "    if (s.count(\"И\") == 1 and s.count(\"А\") == 0) or (s.count(\"И\") == 0 and s.count(\"А\") == 1):\n",
    "        count += 1\n",
    "count"
   ]
  },
  {
   "cell_type": "code",
   "execution_count": null,
   "id": "3f87f1bd",
   "metadata": {
    "pycharm": {
     "name": "#%%\n"
    }
   },
   "outputs": [],
   "source": [
    "def calc(x, a, b):\n",
    "    s = \"\"\n",
    "    x = int(str(x), a)\n",
    "    while x > 0:\n",
    "        s += str(x % b)\n",
    "        x //= b\n",
    "    return s[::-1]\n",
    "\n",
    "calc(6, 10, 3)"
   ]
  },
  {
   "cell_type": "code",
   "execution_count": null,
   "id": "59be52ed",
   "metadata": {
    "pycharm": {
     "name": "#%%\n"
    }
   },
   "outputs": [],
   "source": [
    "def F(n):\n",
    "    if n > 0:\n",
    "        G(n - 1)\n",
    "def G(n):\n",
    "    print(\"*\")\n",
    "    if n > 1:\n",
    "        F(n - 3)\n",
    "F(11)"
   ]
  },
  {
   "cell_type": "code",
   "execution_count": null,
   "id": "fa93751f",
   "metadata": {
    "pycharm": {
     "name": "#%%\n"
    }
   },
   "outputs": [],
   "source": [
    "arr = [int(x) for x in open(\"17.txt\").readlines()]\n",
    "count = 0\n",
    "maxx = float(\"-inf\")\n",
    "\n",
    "for i in range(len(arr)):\n",
    "    for j in range(i + 1, len(arr)):\n",
    "        a = arr[i]\n",
    "        b = arr[j]\n",
    "        if (a - b) % 2 == 0 and (a % 31 == 0 or b % 31 == 0):\n",
    "            count += 1\n",
    "            maxx = max(maxx, a + b)\n",
    "count, maxx"
   ]
  },
  {
   "cell_type": "code",
   "execution_count": null,
   "id": "28c21b36",
   "metadata": {
    "pycharm": {
     "name": "#%%\n"
    }
   },
   "outputs": [],
   "source": [
    "# +1\n",
    "# +2\n",
    "# *2\n",
    "# end >= 42\n",
    "# 1 <= S <= 41\n",
    "def f(s, c, m):\n",
    "    if s >= 42:\n",
    "        return c%2 == m%2\n",
    "    if c == m:\n",
    "        return 0\n",
    "    \n",
    "    h = [f(s+1, c+1, m), f(s+2, c+1, m), f(s*2, c+1, m)]\n",
    "    return any(h) if (c+1)%2 == m%2 else all(h)\n",
    "\n",
    "for s in range(1, 42):\n",
    "    for m in range(1, 5):\n",
    "        if f(s, 0, m):\n",
    "            print(s, m)\n",
    "            break"
   ]
  },
  {
   "cell_type": "code",
   "execution_count": null,
   "id": "0518a9d6",
   "metadata": {
    "pycharm": {
     "name": "#%%\n"
    }
   },
   "outputs": [],
   "source": [
    "for i in range(1000):\n",
    "    q = 0\n",
    "    n = i\n",
    "    for i in range(1, n):\n",
    "        if n % i == 0:\n",
    "            q = i\n",
    "    if q == 17:\n",
    "        print(i)\n",
    "        "
   ]
  },
  {
   "cell_type": "code",
   "execution_count": null,
   "id": "1ca306fc",
   "metadata": {
    "pycharm": {
     "name": "#%%\n"
    }
   },
   "outputs": [],
   "source": [
    "# +1 +2 *3\n",
    "def tr(start, finish):\n",
    "    if start > finish:\n",
    "        return 0\n",
    "    if start == finish:\n",
    "        return 1\n",
    "    return tr(start+1, finish) + tr(start+2, finish) + tr(start*3, finish)\n",
    "\n",
    "tr(2,8)*tr(8,10)*tr(10, 12)"
   ]
  },
  {
   "cell_type": "code",
   "execution_count": 39,
   "id": "ba8aa888",
   "metadata": {
    "pycharm": {
     "name": "#%%\n"
    }
   },
   "outputs": [
    {
     "data": {
      "text/plain": [
       "65"
      ]
     },
     "execution_count": 39,
     "metadata": {},
     "output_type": "execute_result"
    }
   ],
   "source": [
    "s = open(\"107_24.txt\").readline()\n",
    "s = s.replace(\"AB\", \"*\").replace(\"CB\", \"*\")\n",
    "count = 0\n",
    "maxx = float(\"-inf\")\n",
    "for i in range(len(s)):\n",
    "    if s[i] == \"*\":\n",
    "        count += 1\n",
    "        maxx = max(count, maxx)\n",
    "    else:\n",
    "        count = 0\n",
    "maxx"
   ]
  },
  {
   "cell_type": "code",
   "execution_count": 40,
   "id": "4ef7ec76",
   "metadata": {
    "pycharm": {
     "name": "#%%\n"
    }
   },
   "outputs": [
    {
     "data": {
      "text/plain": [
       "(14, 679730035)"
      ]
     },
     "execution_count": 40,
     "metadata": {},
     "output_type": "execute_result"
    }
   ],
   "source": [
    "f = open(\"26.txt\")\n",
    "n = int(f.readline())\n",
    "count = 0\n",
    "maxx = float('-inf')\n",
    "arr = [int(x) for x in f.readlines()]\n",
    "d = set(arr)\n",
    "for i in range(len(arr)):\n",
    "    for j in range(i + 1, len(arr)):\n",
    "        a = arr[i]\n",
    "        b = arr[j]\n",
    "        mid = (a + b) // 2\n",
    "        if (a % 2 != 0 and b % 2 != 0) and (mid in d):\n",
    "            count += 1\n",
    "            maxx = max(maxx, mid)\n",
    "count, maxx"
   ]
  },
  {
   "cell_type": "code",
   "execution_count": null,
   "id": "ace124a8",
   "metadata": {
    "pycharm": {
     "name": "#%%\n"
    }
   },
   "outputs": [],
   "source": []
  }
 ],
 "metadata": {
  "kernelspec": {
   "display_name": "Python 3 (ipykernel)",
   "language": "python",
   "name": "python3"
  },
  "language_info": {
   "codemirror_mode": {
    "name": "ipython",
    "version": 3
   },
   "file_extension": ".py",
   "mimetype": "text/x-python",
   "name": "python",
   "nbconvert_exporter": "python",
   "pygments_lexer": "ipython3",
   "version": "3.10.2"
  }
 },
 "nbformat": 4,
 "nbformat_minor": 5
}