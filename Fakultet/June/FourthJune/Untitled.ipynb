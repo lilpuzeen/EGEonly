{
 "cells": [
  {
   "cell_type": "code",
   "execution_count": null,
   "id": "4a999e9f",
   "metadata": {
    "pycharm": {
     "name": "#%%\n"
    }
   },
   "outputs": [],
   "source": [
    "# (x ≡ ¬y) → (z ≡ (y ∨ w))\n",
    "print(\"x y w z\")\n",
    "for x in range(2):\n",
    "    for y in range(2):\n",
    "        for w in range(2):\n",
    "            for z in range(2):\n",
    "                if not((x == (not y)) <= (z == (y or w))):\n",
    "                    print(x, y, w, z)"
   ]
  },
  {
   "cell_type": "code",
   "execution_count": null,
   "id": "f7dbc13b",
   "metadata": {
    "pycharm": {
     "name": "#%%\n"
    }
   },
   "outputs": [],
   "source": [
    "for i in range(256):\n",
    "    n = bin(i)[2:]\n",
    "    n = \"0\"*(8-len(n)) + n\n",
    "    arr = list(n)\n",
    "    \n",
    "    for j in range(len(arr)):\n",
    "        if arr[j] == \"0\":\n",
    "            arr[j] = \"1\"\n",
    "        else:\n",
    "            arr[j] = \"0\"\n",
    "    n = \"\".join(arr)\n",
    "    \n",
    "    res = int(n, 2)\n",
    "    res -= i\n",
    "    if res == 133:\n",
    "        print(i)"
   ]
  },
  {
   "cell_type": "code",
   "execution_count": null,
   "id": "3cc8c1ab",
   "metadata": {
    "pycharm": {
     "name": "#%%\n"
    }
   },
   "outputs": [],
   "source": [
    "s = 0\n",
    "k = 0\n",
    "while k < 30:\n",
    "    k += 3\n",
    "    s += k\n",
    "print(s)"
   ]
  },
  {
   "cell_type": "code",
   "execution_count": null,
   "id": "b2495eb4",
   "metadata": {
    "pycharm": {
     "name": "#%%\n"
    }
   },
   "outputs": [],
   "source": [
    "from itertools import product\n",
    "lets = list(\"АБВГД\")\n",
    "count = 0\n",
    "for item in product(lets, repeat=5):\n",
    "    s = \"\".join(item)\n",
    "    if s[0] != \"А\" and (\"АА\" not in s) and (\"ББ\" not in s) and (\"ВВ\" not in s) and (\"ГГ\" not in s) and (\"ДД\" not in s):\n",
    "        count += 1\n",
    "count"
   ]
  },
  {
   "cell_type": "code",
   "execution_count": null,
   "id": "4f2aa92d",
   "metadata": {
    "pycharm": {
     "name": "#%%\n"
    }
   },
   "outputs": [],
   "source": [
    "def f(n):\n",
    "    if n > 0:\n",
    "        f(n - 3)\n",
    "        f(n // 3)\n",
    "        print(n)\n",
    "f(9)"
   ]
  },
  {
   "cell_type": "code",
   "execution_count": null,
   "id": "dda333b7",
   "metadata": {
    "pycharm": {
     "name": "#%%\n"
    }
   },
   "outputs": [],
   "source": [
    "arr = [int(x) for x in open(\"17.txt\").readlines()]\n",
    "count = 0\n",
    "maxx = float(\"-inf\")\n",
    "for i in range(len(arr)):\n",
    "    for j in range(i + 1, len(arr)):\n",
    "        a = arr[i]\n",
    "        b = arr[j]\n",
    "        if (a % 160 != b % 160) and (a % 7 == 0 or b % 7 == 0):\n",
    "            count += 1\n",
    "            maxx = max(a+b, maxx)\n",
    "count, maxx"
   ]
  },
  {
   "cell_type": "code",
   "execution_count": null,
   "id": "d28c924e",
   "metadata": {
    "pycharm": {
     "name": "#%%\n"
    }
   },
   "outputs": [],
   "source": [
    "def f(s, c, m):\n",
    "    if s >= 40: return c%2 == m%2\n",
    "    if c == m: return 0\n",
    "    h = [f(s+1, c+1, m), f(s*3 - 2, c+1, m)]\n",
    "    return any(h) if (c+1)%2 == m%2 else all(h)\n",
    "\n",
    "for s in range(2, 40):\n",
    "    for m in range(1, 5):\n",
    "        if f(s, 0, m):\n",
    "            print(s, m)\n",
    "            break"
   ]
  },
  {
   "cell_type": "code",
   "execution_count": null,
   "id": "5d85131e",
   "metadata": {
    "pycharm": {
     "name": "#%%\n"
    }
   },
   "outputs": [],
   "source": [
    "for i in range(10000):\n",
    "    x = i\n",
    "    L = 1\n",
    "    M = 0\n",
    "    while x > 0:\n",
    "        M = M + 1\n",
    "        if x % 2 != 0:\n",
    "            L = L * (x % 8)\n",
    "        x = x // 8\n",
    "    if L == 21 and M == 3:\n",
    "        print(i)"
   ]
  },
  {
   "cell_type": "code",
   "execution_count": null,
   "id": "f2643de6",
   "metadata": {
    "pycharm": {
     "name": "#%%\n"
    }
   },
   "outputs": [],
   "source": [
    "def tr(start, finish):\n",
    "    if start > finish: return 0\n",
    "    if start == finish: return 1\n",
    "    return tr(start + 1, finish) + tr(start + 3, finish)\n",
    "\n",
    "\n",
    "tr(1, 9)*tr(9, 17)"
   ]
  },
  {
   "cell_type": "code",
   "execution_count": null,
   "id": "aefc928d",
   "metadata": {
    "pycharm": {
     "name": "#%%\n"
    }
   },
   "outputs": [],
   "source": [
    "s = open(\"zadanie24_1.txt\").readline()\n",
    "s = s.replace(\"A\", \" \").replace(\"C\", \" \")\n",
    "count = 0\n",
    "maxx = float(\"-inf\")\n",
    "for i in range(len(s)):\n",
    "    if s[i] == \"B\":\n",
    "        count += 1\n",
    "        maxx = max(count, maxx)\n",
    "    else:\n",
    "        count = 0\n",
    "        maxx = max(count, maxx)\n",
    "count"
   ]
  },
  {
   "cell_type": "code",
   "execution_count": null,
   "id": "5c877464",
   "metadata": {
    "pycharm": {
     "name": "#%%\n"
    }
   },
   "outputs": [],
   "source": [
    "len(\"BBBBBBBBBBB\")"
   ]
  },
  {
   "cell_type": "code",
   "execution_count": null,
   "id": "88082936",
   "metadata": {
    "pycharm": {
     "name": "#%%\n"
    }
   },
   "outputs": [],
   "source": [
    "for i in \"0123456789\":\n",
    "    for j in \"0123456789\":\n",
    "        res = int(f\"12345{i}7{j}8\")\n",
    "        if res % 23 == 0:\n",
    "            print(res, res // 23)"
   ]
  },
  {
   "cell_type": "code",
   "execution_count": null,
   "id": "5219be3b",
   "metadata": {
    "pycharm": {
     "name": "#%%\n"
    }
   },
   "outputs": [],
   "source": [
    "f = open(\"27-B.txt\")\n",
    "n = int(f.readline())\n",
    "arr = [int(x) for x in f.readlines()]\n",
    "maxx = float('-inf')\n",
    "for i in range(len(arr)):\n",
    "    s = 0\n",
    "    odds = 0\n",
    "    for j in range(i, len(arr)):\n",
    "        s += arr[j]\n",
    "        if (arr[j] % 2 != 0) and (arr[j] > 0):\n",
    "            odds += 1\n",
    "        if odds % 30 == 0:\n",
    "            maxx = max(s, maxx)\n",
    "maxx"
   ]
  },
  {
   "cell_type": "code",
   "execution_count": null,
   "id": "7ca5f0d2",
   "metadata": {
    "pycharm": {
     "name": "#%%\n"
    }
   },
   "outputs": [],
   "source": []
  }
 ],
 "metadata": {
  "kernelspec": {
   "display_name": "Python 3 (ipykernel)",
   "language": "python",
   "name": "python3"
  },
  "language_info": {
   "codemirror_mode": {
    "name": "ipython",
    "version": 3
   },
   "file_extension": ".py",
   "mimetype": "text/x-python",
   "name": "python",
   "nbconvert_exporter": "python",
   "pygments_lexer": "ipython3",
   "version": "3.9.5"
  }
 },
 "nbformat": 4,
 "nbformat_minor": 5
}