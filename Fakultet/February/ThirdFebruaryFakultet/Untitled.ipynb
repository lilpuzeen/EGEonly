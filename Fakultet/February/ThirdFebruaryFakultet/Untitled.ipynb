{
 "cells": [
  {
   "cell_type": "code",
   "execution_count": null,
   "id": "f3f23c09",
   "metadata": {},
   "outputs": [],
   "source": [
    "# 2\n",
    "print(\"x y z\")\n",
    "for x in range(2):\n",
    "    for y in range(2):\n",
    "        for z in range(2):\n",
    "            if not((x == z) or (x <= (y and z))):\n",
    "                print(x, y, z)\n",
    "# yzx"
   ]
  },
  {
   "cell_type": "code",
   "execution_count": null,
   "id": "dd64588a",
   "metadata": {},
   "outputs": [],
   "source": [
    "# 15\n",
    "a = 1\n",
    "while True:\n",
    "    for x in range(1000):\n",
    "        for y in range(1000):\n",
    "            if not((2*x + 3*y > 30) or (x + y <= a)):\n",
    "                break\n",
    "        else:\n",
    "            continue\n",
    "        break\n",
    "    else:\n",
    "        print(a)\n",
    "    a += 1\n",
    "# 15"
   ]
  },
  {
   "cell_type": "code",
   "execution_count": null,
   "id": "a9172369",
   "metadata": {},
   "outputs": [],
   "source": [
    "# 16\n",
    "def f(n):\n",
    "    if n < 8:\n",
    "        f(n + 3)\n",
    "        print(n)\n",
    "        f(2 * n)\n",
    "f(1)\n",
    "# 7415274"
   ]
  },
  {
   "cell_type": "code",
   "execution_count": null,
   "id": "323b20eb",
   "metadata": {},
   "outputs": [],
   "source": [
    "# 19-21\n",
    "from functools import lru_cache\n",
    "\n",
    "\n",
    "def moves(h):\n",
    "    return (h + 1), (h + 4), (h * 5)\n",
    "\n",
    "\n",
    "@lru_cache(None)\n",
    "def game(h):\n",
    "    if h >= 68:\n",
    "        return \"W\"\n",
    "    if any(game(m) == \"W\" for m in moves(h)):\n",
    "        return \"P1\"\n",
    "    if all(game(m) == \"P1\" for m in moves(h)):\n",
    "        return \"B1\"\n",
    "    if any(game(m) == \"B1\" for m in moves(h)):\n",
    "        return \"P2\"\n",
    "    if all(game(m) == \"P1\" or game(m) == \"P2\" for m in moves(h)):\n",
    "        return \"B1/2\"\n",
    "\n",
    "\n",
    "for s in range(1, 68):\n",
    "    if game(s) is not None:\n",
    "        print(s, game(s))\n",
    "        \n",
    "# 19 - 3\n",
    "# 20 - 912\n",
    "# 21 - 8"
   ]
  },
  {
   "cell_type": "code",
   "execution_count": null,
   "id": "522b05f4",
   "metadata": {},
   "outputs": [],
   "source": [
    "# 22\n",
    "for i in range(1000):\n",
    "    x = i\n",
    "    a = 0\n",
    "    b = 10\n",
    "    while x > 0:\n",
    "        d = x % 6\n",
    "        if d > a: a = d\n",
    "        if d < b: b = d\n",
    "        x = x // 6\n",
    "    if (a + b) == 8:\n",
    "        print(i)\n",
    "# 4"
   ]
  },
  {
   "cell_type": "code",
   "execution_count": null,
   "id": "b6ccf389",
   "metadata": {},
   "outputs": [],
   "source": [
    "# 5\n",
    "d = set()\n",
    "for i in range(100, 3000+1):\n",
    "    n = i\n",
    "    n = bin(n)[2:]\n",
    "    n = n.removeprefix(\"1\")\n",
    "    for let in n:\n",
    "        if let == \"0\":\n",
    "            n = n.replace(let, \"\", 1)\n",
    "        else:\n",
    "            break\n",
    "    try:\n",
    "        result = i - int(n, 2)\n",
    "    except:\n",
    "        pass\n",
    "    d.add(result)\n",
    "len(d)\n",
    "# 6"
   ]
  },
  {
   "cell_type": "code",
   "execution_count": null,
   "id": "549f8a89",
   "metadata": {},
   "outputs": [],
   "source": [
    "# 6\n",
    "s = 47\n",
    "n = 1\n",
    "while s > 0:\n",
    "    s = s - 9\n",
    "    n = n + 4\n",
    "print(n)\n",
    "# 25"
   ]
  },
  {
   "cell_type": "code",
   "execution_count": null,
   "id": "b5b69811",
   "metadata": {},
   "outputs": [],
   "source": [
    "# 8\n",
    "4**i >= N\n",
    "# 5"
   ]
  },
  {
   "cell_type": "code",
   "execution_count": 2,
   "id": "e8c0ef79",
   "metadata": {},
   "outputs": [
    {
     "name": "stdout",
     "output_type": "stream",
     "text": [
      "17\n",
      "85\n"
     ]
    }
   ],
   "source": [
    "# 14\n",
    "def calc(x, a, b):\n",
    "    s = \"\"\n",
    "    x = int(str(x), a)\n",
    "    while x > 0:\n",
    "        s += str(x % b)\n",
    "        x //= b\n",
    "    return s[::-1]\n",
    "\n",
    "n = 87\n",
    "for i in range(2, 1000):\n",
    "    j = calc(n, 10, i)\n",
    "    if j.endswith(\"2\") and len(j) <= 2:\n",
    "        print(i)\n",
    "# 17 85"
   ]
  },
  {
   "cell_type": "code",
   "execution_count": null,
   "id": "9937a7dd",
   "metadata": {},
   "outputs": [],
   "source": [
    "# 23\n",
    "def tr(start, finish):\n",
    "    if start > finish:\n",
    "        return 0\n",
    "    if start == finish:\n",
    "        return 1\n",
    "    return tr(start + 1, finish) + tr(start * 2, finish) + tr(start * 2 + 1, finish) + tr(start * 10, finish)\n",
    "\n",
    "print(tr(1, 15))\n",
    "# 84"
   ]
  },
  {
   "cell_type": "code",
   "execution_count": null,
   "id": "fb12f633",
   "metadata": {},
   "outputs": [],
   "source": [
    "# 25\n",
    "def p(x):\n",
    "    return x > 1 and all(x % i != 0 for i in range(2, int(x**0.5)+1))\n",
    "\n",
    "\n",
    "def div(x):\n",
    "    d = set()\n",
    "    for i in range(2, int(x**0.5)+1):\n",
    "        if x % i == 0:\n",
    "            d |= {i, x//i}\n",
    "    return sorted(d)\n",
    "\n",
    "\n",
    "for i in range(10_000_000+1, 10_000_500):\n",
    "    if p(i):\n",
    "        continue\n",
    "    M = div(i)[-1] + div(i)[-2]\n",
    "    if M < 10000:\n",
    "        print(i, M)\n",
    "\"\"\"\n",
    "6876\n",
    "6374\n",
    "6924\n",
    "8024\n",
    "8358\n",
    "\"\"\""
   ]
  },
  {
   "cell_type": "code",
   "execution_count": 40,
   "id": "19420af7",
   "metadata": {},
   "outputs": [
    {
     "data": {
      "text/plain": [
       "(1569269, 19982)"
      ]
     },
     "execution_count": 40,
     "metadata": {},
     "output_type": "execute_result"
    }
   ],
   "source": [
    "# 17\n",
    "arr = [int(x) for x in open(\"17-2.txt\").readlines()]\n",
    "count = 0\n",
    "maxx = -1000000000\n",
    "for i in range(len(arr)):\n",
    "    a = arr[i]\n",
    "    for j in range(i + 1, len(arr)):\n",
    "        b = arr[j]\n",
    "        if ((a - b) % 2 == 0) and ((a % 31 == 0) or (b % 31 == 0)):\n",
    "            count += 1\n",
    "            if (a + b) > maxx:\n",
    "                maxx = a + b\n",
    "count, maxx\n",
    "# 1569269, 19982"
   ]
  },
  {
   "cell_type": "code",
   "execution_count": 42,
   "id": "07cba382",
   "metadata": {},
   "outputs": [
    {
     "data": {
      "text/plain": [
       "282"
      ]
     },
     "execution_count": 42,
     "metadata": {},
     "output_type": "execute_result"
    }
   ],
   "source": [
    "# 24\n",
    "s = open(\"24-2.txt\").readline()\n",
    "count = 0\n",
    "countE = 0\n",
    "maxlen = 0\n",
    "for let in s:\n",
    "    if let != \"A\":\n",
    "        if let == \"E\":\n",
    "            countE += 1\n",
    "        count += 1\n",
    "    else:\n",
    "        if countE >= 3:\n",
    "            if count > maxlen:\n",
    "                maxlen = count\n",
    "        count = 0\n",
    "        countE = 0\n",
    "maxlen\n",
    "# 282"
   ]
  },
  {
   "cell_type": "code",
   "execution_count": 43,
   "id": "cfcae790",
   "metadata": {},
   "outputs": [
    {
     "data": {
      "text/plain": [
       "13"
      ]
     },
     "execution_count": 43,
     "metadata": {},
     "output_type": "execute_result"
    }
   ],
   "source": [
    "# 13\n",
    "s = \"АБВГ БВД ВЖД ГВЕ ДЖИ ЖК ЕЖК ИК К\"\n",
    "d = {w[0]: w[1:] for w in s.split()}\n",
    "f = lambda a, b: (a == b) + sum(f(c, b) for c in d[a])\n",
    "f(\"А\", \"К\")\n",
    "# 13"
   ]
  },
  {
   "cell_type": "code",
   "execution_count": null,
   "id": "44750d60",
   "metadata": {},
   "outputs": [],
   "source": []
  }
 ],
 "metadata": {
  "kernelspec": {
   "display_name": "Python 3 (ipykernel)",
   "language": "python",
   "name": "python3"
  },
  "language_info": {
   "codemirror_mode": {
    "name": "ipython",
    "version": 3
   },
   "file_extension": ".py",
   "mimetype": "text/x-python",
   "name": "python",
   "nbconvert_exporter": "python",
   "pygments_lexer": "ipython3",
   "version": "3.10.2"
  }
 },
 "nbformat": 4,
 "nbformat_minor": 5
}
