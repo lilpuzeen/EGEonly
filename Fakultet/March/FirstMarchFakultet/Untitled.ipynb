{
 "cells": [
  {
   "cell_type": "code",
   "execution_count": null,
   "id": "fda620d8",
   "metadata": {},
   "outputs": [],
   "source": [
    "# 2\n",
    "print(\"x y z w\")\n",
    "for x in range(2):\n",
    "    for y in range(2):\n",
    "        for z in range(2):\n",
    "            for w in range(2):\n",
    "                if (((y <= z) or (not(x) and w)) == (w == z)):\n",
    "                    print(x, y, z, w)"
   ]
  },
  {
   "cell_type": "code",
   "execution_count": null,
   "id": "46bfcc97",
   "metadata": {},
   "outputs": [],
   "source": [
    "# 5\n",
    "for i in range(10_000, 100_000):\n",
    "    arr = [int(x) for x in list(str(i))]\n",
    "    a = arr[0] + arr[2] + arr[4]\n",
    "    b = arr[1] + arr[3]\n",
    "    result = [str(x) for x in sorted([a, b])]\n",
    "    r = \"\".join(result)\n",
    "    if r == \"723\":\n",
    "        print(i)"
   ]
  },
  {
   "cell_type": "code",
   "execution_count": null,
   "id": "b38df7b3",
   "metadata": {},
   "outputs": [],
   "source": [
    "# 6\n",
    "n = 1\n",
    "s = 0\n",
    "while n <= 100:\n",
    "    s = s + 30\n",
    "    n = n * 2\n",
    "print(s)"
   ]
  },
  {
   "cell_type": "code",
   "execution_count": null,
   "id": "c1b3a823",
   "metadata": {},
   "outputs": [],
   "source": [
    "# 8\n",
    "from itertools import permutations\n",
    "letters = [\"О\", \"Л\", \"Ь\", \"Г\", \"А\"]\n",
    "arr = list(permutations(letters, r=5))\n",
    "arr = list(filter(lambda x: x[0] != \"Ь\" and (\"ОЬ\" not in \"\".join(x)) and (\"АЬ\" not in \"\".join(x)), arr))\n",
    "len(arr)"
   ]
  },
  {
   "cell_type": "code",
   "execution_count": null,
   "id": "11c00290",
   "metadata": {},
   "outputs": [],
   "source": [
    "for i in range(100, 1000, 100):\n",
    "    print(i, bin(i)[2:])\n",
    "print(999, bin(999)[2:])"
   ]
  },
  {
   "cell_type": "code",
   "execution_count": null,
   "id": "70672afa",
   "metadata": {},
   "outputs": [],
   "source": [
    "# 12\n",
    "s = \"1\" * 101\n",
    "while \"1111\" in s:\n",
    "    s = s.replace(\"1111\", \"22\", 1)\n",
    "    s = s.replace(\"222\", \"1\", 1)\n",
    "s"
   ]
  },
  {
   "cell_type": "code",
   "execution_count": null,
   "id": "fdbb36b5",
   "metadata": {},
   "outputs": [],
   "source": [
    "# 14\n",
    "def calc(x, a, b):\n",
    "    s = \"\"\n",
    "    x = int(str(x), a)\n",
    "    while x > 0:\n",
    "        s += str(x % b)\n",
    "        x //= b\n",
    "    return s[::-1]\n",
    "\n",
    "a = 2*216**6 + 3*36**9 - 432\n",
    "print(calc(a, 10, 6).count(\"5\"))"
   ]
  },
  {
   "cell_type": "code",
   "execution_count": null,
   "id": "b95d01a0",
   "metadata": {},
   "outputs": [],
   "source": [
    "# 16\n",
    "def f(n):\n",
    "    if n < 8:\n",
    "        f(2*n)\n",
    "        print(n)\n",
    "        f(n+3)\n",
    "f(1)"
   ]
  },
  {
   "cell_type": "code",
   "execution_count": null,
   "id": "ac6bf145",
   "metadata": {},
   "outputs": [],
   "source": [
    "# 17\n",
    "arr = [int(x) for x in open(\"17-2.txt\").readlines()]\n",
    "d = 160\n",
    "p = 7\n",
    "count = 0\n",
    "maxx = -100000000\n",
    "for i in range(len(arr)):\n",
    "    a = arr[i]\n",
    "    for j in range(i + 1, len(arr)):\n",
    "        b = arr[j]\n",
    "        if ((a % d) != (b % d)) and ((a % p == 0) or (b % p == 0)):\n",
    "            count += 1\n",
    "            if (a + b) > maxx:\n",
    "                maxx = a + b\n",
    "count, maxx"
   ]
  },
  {
   "cell_type": "code",
   "execution_count": 7,
   "id": "89065984",
   "metadata": {},
   "outputs": [
    {
     "name": "stdout",
     "output_type": "stream",
     "text": [
      "131079601 1225043\n",
      "141158161 1295029\n",
      "163047361 1442897\n"
     ]
    }
   ],
   "source": [
    "def p(x):\n",
    "    return x > 1 and all(x % i != 0 for i in range(2, int(x**0.5) + 1))\n",
    "\n",
    "\n",
    "def div(x):\n",
    "    d = set()\n",
    "    for i in range(2, int(x**0.5) + 1):\n",
    "        if x % i == 0:\n",
    "            d |= {i, x // i}\n",
    "    return sorted(d)\n",
    "\n",
    "\n",
    "for i in range(105, 123):\n",
    "    if p(i):\n",
    "        print(i**4, div(i**4)[-1])\n"
   ]
  },
  {
   "cell_type": "code",
   "execution_count": null,
   "id": "8acb43c6",
   "metadata": {},
   "outputs": [],
   "source": [
    "123456789**0.25"
   ]
  },
  {
   "cell_type": "code",
   "execution_count": null,
   "id": "138edc93",
   "metadata": {},
   "outputs": [],
   "source": [
    "223456789**0.25"
   ]
  },
  {
   "cell_type": "code",
   "execution_count": null,
   "id": "d2caa712",
   "metadata": {},
   "outputs": [],
   "source": [
    "from functools import lru_cache\n",
    "\n",
    "\n",
    "def moves(h):\n",
    "    a, b = h\n",
    "    return (a + 1, b), (a, b + 1), (a * 2, b), (a, b * 2)\n",
    "\n",
    "\n",
    "@lru_cache(None)\n",
    "def game(h):\n",
    "    if sum(h) >= 77:\n",
    "        return \"W\"\n",
    "    if any(game(m) == \"W\" for m in moves(h)):\n",
    "        return \"P1\"\n",
    "    if all(game(m) == \"P1\" for m in moves(h)):\n",
    "        return \"B1\"\n",
    "    if any(game(m) == \"B1\" for m in moves(h)):\n",
    "        return \"P2\"\n",
    "    if all(game(m) == \"P2\" or game(m) == \"P1\" for m in moves(h)):\n",
    "        return \"B1/2\"\n",
    "\n",
    "    \n",
    "for s in range(1, 70):\n",
    "    if game((7, s)) is not None:\n",
    "        print(s, game((7, s)))"
   ]
  },
  {
   "cell_type": "code",
   "execution_count": null,
   "id": "db1f29c0",
   "metadata": {},
   "outputs": [],
   "source": [
    "for i in range(100000):\n",
    "    x = i\n",
    "    a = 0\n",
    "    b = 1\n",
    "    while x > 0:\n",
    "        if x % 2 > 0:\n",
    "            a += x % 12\n",
    "        else:\n",
    "            b *= x % 12\n",
    "        x = x // 12\n",
    "    if a == 2 and b == 10:\n",
    "        print(i)"
   ]
  },
  {
   "cell_type": "code",
   "execution_count": null,
   "id": "93199e12",
   "metadata": {},
   "outputs": [],
   "source": [
    "def tr(start, finish):\n",
    "    if start > finish:\n",
    "        return 0\n",
    "    if start == finish:\n",
    "        return 1\n",
    "    if start == 33:\n",
    "        return 0\n",
    "    return tr(start + 1, finish) + tr(start * 2, finish) + tr(start * 3, finish)\n",
    "\n",
    "\n",
    "tr(3, 15) * tr(15, 50)"
   ]
  },
  {
   "cell_type": "code",
   "execution_count": 6,
   "id": "4759eb6c",
   "metadata": {},
   "outputs": [
    {
     "data": {
      "text/plain": [
       "467"
      ]
     },
     "execution_count": 6,
     "metadata": {},
     "output_type": "execute_result"
    }
   ],
   "source": [
    "# 24\n",
    "strings = [str(x) for x in open(\"24.txt\").readlines()]\n",
    "count = 0\n",
    "for string in strings:\n",
    "    if string.count(\"E\") > string.count(\"A\"):\n",
    "        count += 1\n",
    "count"
   ]
  },
  {
   "cell_type": "code",
   "execution_count": 17,
   "id": "92904830",
   "metadata": {},
   "outputs": [
    {
     "data": {
      "text/plain": [
       "127026"
      ]
     },
     "execution_count": 17,
     "metadata": {},
     "output_type": "execute_result"
    }
   ],
   "source": [
    "# 27\n",
    "from itertools import product\n",
    "\n",
    "f = open(\"27-A.txt\")\n",
    "n = int(f.readline())\n",
    "arr = [[int(x) for x in f.readline().split()] for i in range(n)]\n",
    "\n",
    "maxx = -10000\n",
    "for x in product(*arr):\n",
    "    s = sum(x)\n",
    "    if s % 3 == 0:\n",
    "        maxx = max(maxx, s)\n",
    "maxx"
   ]
  },
  {
   "cell_type": "code",
   "execution_count": null,
   "id": "bf831f6e",
   "metadata": {},
   "outputs": [],
   "source": []
  }
 ],
 "metadata": {
  "kernelspec": {
   "display_name": "Python 3 (ipykernel)",
   "language": "python",
   "name": "python3"
  },
  "language_info": {
   "codemirror_mode": {
    "name": "ipython",
    "version": 3
   },
   "file_extension": ".py",
   "mimetype": "text/x-python",
   "name": "python",
   "nbconvert_exporter": "python",
   "pygments_lexer": "ipython3",
   "version": "3.10.2"
  }
 },
 "nbformat": 4,
 "nbformat_minor": 5
}
