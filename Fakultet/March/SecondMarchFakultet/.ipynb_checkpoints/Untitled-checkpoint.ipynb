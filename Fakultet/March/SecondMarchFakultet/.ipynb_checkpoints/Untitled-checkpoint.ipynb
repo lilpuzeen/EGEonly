{
 "cells": [
  {
   "cell_type": "code",
   "execution_count": null,
   "id": "63662545",
   "metadata": {},
   "outputs": [],
   "source": [
    "print(\"x y z\")\n",
    "for x in range(2):\n",
    "    for y in range(2):\n",
    "        for z in range(2):\n",
    "            if ((not(x) and y and z) or (not(x) and y and not(z)) or (not(x) and not(y) and not(z))):\n",
    "                print(x, y, z)\n",
    "        "
   ]
  },
  {
   "cell_type": "code",
   "execution_count": null,
   "id": "750eda29",
   "metadata": {},
   "outputs": [],
   "source": [
    "# 5\n",
    "for i in range(1000):\n",
    "    n = bin(i)[2:]\n",
    "    if i % 2 == 0:\n",
    "        n += \"00\"\n",
    "    else:\n",
    "        n += \"11\"\n",
    "    if int(n, 2) > 115:\n",
    "        print(i)\n",
    "        break"
   ]
  },
  {
   "cell_type": "code",
   "execution_count": null,
   "id": "03fa099b",
   "metadata": {},
   "outputs": [],
   "source": [
    "s = 0\n",
    "n = 20\n",
    "while s + n <= 100:\n",
    "    s = s + 25\n",
    "    n = n - 5\n",
    "print(s)"
   ]
  },
  {
   "cell_type": "code",
   "execution_count": null,
   "id": "3dd03321",
   "metadata": {},
   "outputs": [],
   "source": [
    "40960 / 2**13"
   ]
  },
  {
   "cell_type": "code",
   "execution_count": null,
   "id": "94c21a9f",
   "metadata": {},
   "outputs": [],
   "source": [
    "# 8\n",
    "from itertools import product\n",
    "\n",
    "letters = [\"У\", \"Ч\", \"Е\", \"Н\", \"И\", \"К\"]\n",
    "arr = list(product(letters, repeat=5))\n",
    "len(list(filter(lambda x: x[0] == \"У\" and x[-1] == \"К\", arr)))"
   ]
  },
  {
   "cell_type": "code",
   "execution_count": null,
   "id": "f30d94f4",
   "metadata": {},
   "outputs": [],
   "source": [
    "# 14\n",
    "def calc(x, a, b):\n",
    "    s = \"\"\n",
    "    x = int(str(x), a)\n",
    "    while x > 0:\n",
    "        s += str(x % b)\n",
    "        x //= b\n",
    "    return s[::-1]\n",
    "\n",
    "for i in range(1, 1000):\n",
    "    if (calc(i, 10, 3)[-1] == \"0\") and (calc(i, 10, 5)[-1] == \"0\"):\n",
    "        print(i)\n",
    "        break"
   ]
  },
  {
   "cell_type": "code",
   "execution_count": null,
   "id": "0a1a6e8e",
   "metadata": {},
   "outputs": [],
   "source": [
    "a = 1\n",
    "while True:\n",
    "    for m in range(1000):\n",
    "        for n in range(1000):\n",
    "            if not((3*m + 4*n > 66) or (m <= a) or (n < a)):\n",
    "                break\n",
    "        else:\n",
    "            continue\n",
    "        break\n",
    "    else:\n",
    "        print(a)\n",
    "    a += 1"
   ]
  },
  {
   "cell_type": "code",
   "execution_count": null,
   "id": "bab6a183",
   "metadata": {},
   "outputs": [],
   "source": [
    "def f(n):\n",
    "    if n < 10:\n",
    "        f(n+3)\n",
    "        print(n)\n",
    "        f(3*n)\n",
    "f(1)"
   ]
  },
  {
   "cell_type": "code",
   "execution_count": null,
   "id": "672ba975",
   "metadata": {},
   "outputs": [],
   "source": [
    "arr = [int(x) for x in open('17-2.txt').readlines()]\n",
    "count = 0\n",
    "maxx = -1000000\n",
    "for i in range(len(arr)):\n",
    "    a = arr[i]\n",
    "    for j in range(i + 1, len(arr)):\n",
    "        b = arr[j]\n",
    "        if ((a - b) % 2 == 0) and ((a % 19 == 0) or (b % 19 == 0)):\n",
    "            count += 1\n",
    "            if (a + b) > maxx:\n",
    "                maxx = a + b\n",
    "count, maxx"
   ]
  },
  {
   "cell_type": "code",
   "execution_count": null,
   "id": "63dbea4b",
   "metadata": {},
   "outputs": [],
   "source": [
    "from functools import lru_cache\n",
    "\n",
    "\n",
    "def moves(h):\n",
    "    a, b = h\n",
    "    return (a + 1, b + 2), (a + 2, b + 1), (a * 2, b), (a, b * 2)\n",
    "\n",
    "\n",
    "@lru_cache(None)\n",
    "def game(h):\n",
    "    if sum(h) >= 41:\n",
    "        return \"W\"\n",
    "    if any(game(m) == \"W\" for m in moves(h)):\n",
    "        return \"P1\"\n",
    "    if all(game(m) == \"P1\" for m in moves(h)):\n",
    "        return \"B1\"\n",
    "    if any(game(m) == \"B1\" for m in moves(h)):\n",
    "        return \"P2\"\n",
    "    if all(game(m) == \"P1\" or game(m) == \"P2\" for m in moves(h)):\n",
    "        return \"B1/2\"\n",
    "\n",
    "\n",
    "for s in range(1, 33):\n",
    "    if game((8,s)) is not None:\n",
    "        print(s, game((8, s)))\n"
   ]
  },
  {
   "cell_type": "code",
   "execution_count": null,
   "id": "909667bf",
   "metadata": {},
   "outputs": [],
   "source": [
    "for i in range(10000):\n",
    "    x = i\n",
    "    a = 0\n",
    "    b = 0\n",
    "    while x > 0:\n",
    "        if x % 2 > 0:\n",
    "            a += 1\n",
    "        else:\n",
    "            b += x % 6\n",
    "        x = x // 6\n",
    "    if a == 2 and b == 8:\n",
    "        print(i)\n",
    "        break"
   ]
  },
  {
   "cell_type": "code",
   "execution_count": null,
   "id": "a2e1f176",
   "metadata": {},
   "outputs": [],
   "source": [
    "def tr(start, finish):\n",
    "    if start > finish:\n",
    "        return 0\n",
    "    if start == finish:\n",
    "        return 1\n",
    "    return tr(start * 2, finish) + tr(start * 3, finish)\n",
    "\n",
    "d = set()\n",
    "for i in range(3, 1000):\n",
    "    if tr(2, i) != 3:\n",
    "        continue\n",
    "    else:\n",
    "        d.add(i)\n"
   ]
  },
  {
   "cell_type": "code",
   "execution_count": null,
   "id": "17a3bf14",
   "metadata": {},
   "outputs": [],
   "source": [
    "f = open(\"24-2.txt\").readline()\n",
    "# chr (65-90)\n",
    "lets = {chr(i): 0 for i in range(65, 91)}\n",
    "for i in range(len(f)):\n",
    "    count = 0\n",
    "    if f[i] == \"E\":\n",
    "        for j in range(i+2, len(f)):\n",
    "            lets[f\"{f[j-1]}\"] += 1\n",
    "            count += 1\n",
    "            if f[j] != f[j-1]:\n",
    "                if count > lets[f\"{f[j-1]}\"]:\n",
    "                    lets[f\"{f[j-1]}\"].value = count\n",
    "                count = 0\n",
    "                break\n",
    "lets"
   ]
  },
  {
   "cell_type": "code",
   "execution_count": null,
   "id": "b6c560f2",
   "metadata": {},
   "outputs": [],
   "source": [
    "def p(x):\n",
    "    return x > 1 and all(x % i != 0 for i in range(2, int(x**0.5) + 1))\n",
    "\n",
    "\n",
    "def div(x):\n",
    "    d = set()\n",
    "    for i in range(2, int(x**0.5)+1):\n",
    "        if x % i == 0:\n",
    "            d |= {i, x//i}\n",
    "    return sorted(d)\n",
    "\n",
    "\n",
    "for i in range(700_000, 800_000+1):\n",
    "    if p(i):\n",
    "        continue\n",
    "    M = div(i)[0] + div(i)[-1]\n",
    "    if M % 10 == 8:\n",
    "        print(i, M)\n"
   ]
  },
  {
   "cell_type": "code",
   "execution_count": null,
   "id": "1ecd47f2",
   "metadata": {},
   "outputs": [],
   "source": [
    "f = open(\"26.txt\")\n",
    "n = int(f.readline())\n",
    "arr = [int(x) for x in f.readlines()]\n",
    "d = {x for x in arr}\n",
    "count = 0\n",
    "maxx = -100000000\n",
    "for i in range(len(arr)):\n",
    "    a = arr[i]\n",
    "    for j in range(i + 1, len(arr)):\n",
    "        b = arr[j]\n",
    "        if (a % 2 != b % 2) and ((a + b) in d):\n",
    "            count += 1\n",
    "            if (a + b) > maxx:\n",
    "                maxx = a + b\n",
    "count, maxx"
   ]
  },
  {
   "cell_type": "code",
   "execution_count": 99,
   "id": "d9212546",
   "metadata": {},
   "outputs": [
    {
     "name": "stdout",
     "output_type": "stream",
     "text": [
      "17899 [1449, 3580] [6847, 6023]\n",
      "17899 [1449, 3580] [575, 1545]\n",
      "23085 [6847, 6023] [4221, 5994]\n",
      "23085 [6847, 6023] [1547, 4062]\n",
      "23085 [575, 1545] [4221, 5994]\n",
      "23085 [575, 1545] [1547, 4062]\n"
     ]
    },
    {
     "data": {
      "text/plain": [
       "23085"
      ]
     },
     "execution_count": 99,
     "metadata": {},
     "output_type": "execute_result"
    }
   ],
   "source": [
    "from itertools import combinations\n",
    "f = open(\"27-A.txt\")\n",
    "n = int(f.readline())\n",
    "arr = [[int(x) for x in f.readline().split()] for i in range(n)]\n",
    "maxx = -1000000000\n",
    "for x1, x2 in combinations(arr, 2):\n",
    "    if (x1[0] % 2 == 1 and x2[0] % 2 == 1) and ((max(x1) + max(x2)) % 2 == 1) and ((min(x1) + min(x2)) % 2 == 0):\n",
    "        maxx = max(maxx, sum(x1) + sum(x2))\n",
    "        print(maxx, x1, x2)\n",
    "maxx"
   ]
  },
  {
   "cell_type": "code",
   "execution_count": null,
   "id": "063d1334",
   "metadata": {},
   "outputs": [],
   "source": []
  }
 ],
 "metadata": {
  "kernelspec": {
   "display_name": "Python 3 (ipykernel)",
   "language": "python",
   "name": "python3"
  },
  "language_info": {
   "codemirror_mode": {
    "name": "ipython",
    "version": 3
   },
   "file_extension": ".py",
   "mimetype": "text/x-python",
   "name": "python",
   "nbconvert_exporter": "python",
   "pygments_lexer": "ipython3",
   "version": "3.10.2"
  }
 },
 "nbformat": 4,
 "nbformat_minor": 5
}
