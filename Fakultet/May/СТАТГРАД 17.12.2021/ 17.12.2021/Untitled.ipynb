{
 "cells": [
  {
   "cell_type": "code",
   "execution_count": null,
   "id": "7bb60844",
   "metadata": {},
   "outputs": [],
   "source": [
    "print(\"x y w z\")\n",
    "for x in range(2):\n",
    "    for y in range(2):\n",
    "        for w in range(2):\n",
    "            for z in range(2):\n",
    "                if not(((x <= y) and (z or w)) <= ((x == w) or (y and (not(z))))):\n",
    "                    print(x, y, w, z)"
   ]
  },
  {
   "cell_type": "code",
   "execution_count": null,
   "id": "e9e6dc21",
   "metadata": {},
   "outputs": [],
   "source": [
    "for i in range(100000):\n",
    "    s = i\n",
    "    s = s // 10\n",
    "    n = 1\n",
    "    while s < 221:\n",
    "        if n % 2 == 0:\n",
    "            s = s + 13\n",
    "        n = n + 5\n",
    "    if n == 101:\n",
    "        print(i)"
   ]
  },
  {
   "cell_type": "code",
   "execution_count": null,
   "id": "8a6ab62c",
   "metadata": {},
   "outputs": [],
   "source": [
    "from itertools import product\n",
    "lets = [\"С\", \"В\", \"Е\", \"Т\", \"Л\", \"А\", \"Н\"]\n",
    "\n",
    "count = 0\n",
    "for i in product(lets, repeat=8):\n",
    "    item = \"\".join(i)\n",
    "    if item.count(\"С\") == 1 and item.count(\"В\") == 1 and item.count(\"Е\") == 1 and item.count(\"Т\") == 1 and item.count(\"Л\") == 1 and item.count(\"А\") == 2 and item.count(\"Н\") == 1 and \"АА\" not in item:\n",
    "        count += 1\n",
    "count"
   ]
  },
  {
   "cell_type": "code",
   "execution_count": null,
   "id": "0e164920",
   "metadata": {},
   "outputs": [],
   "source": [
    "maxx = float(\"-inf\")\n",
    "for i in range(200, 50000):\n",
    "    s = \"1\" * i\n",
    "    while \"1111\" in s:\n",
    "        s = s.replace(\"1111\", '22', 1)\n",
    "        s = s.replace(\"222\", \"1\", 1)\n",
    "    if s.count(\"1\") > maxx:\n",
    "        maxx = s.count(\"1\")\n",
    "        ind = i\n",
    "maxx, ind"
   ]
  },
  {
   "cell_type": "code",
   "execution_count": null,
   "id": "e2a324f6",
   "metadata": {},
   "outputs": [],
   "source": [
    "def calc(x, a, b):\n",
    "    s = \"\"\n",
    "    x = int(str(x), a)\n",
    "    while x > 0:\n",
    "        s += str(x % b)\n",
    "        x //= b\n",
    "    return s[::-1]\n",
    "\n",
    "a = 3 * 125**6 + 2 * 25**9 + 5**12 - 625\n",
    "myint = calc(a, 10, 5)\n",
    "myint.count(\"0\")"
   ]
  },
  {
   "cell_type": "code",
   "execution_count": null,
   "id": "280395d1",
   "metadata": {},
   "outputs": [],
   "source": [
    "for i in range(100000000):\n",
    "    x = i\n",
    "    a = 1\n",
    "    b = 0\n",
    "    while x > 0:\n",
    "        d = x % 9\n",
    "        a *= d\n",
    "        if d < 5:\n",
    "            b += d\n",
    "        x //= 9\n",
    "    if a == 10 and b == 9:\n",
    "        print(i)"
   ]
  },
  {
   "cell_type": "code",
   "execution_count": 13,
   "id": "8d9d62dc",
   "metadata": {},
   "outputs": [
    {
     "data": {
      "text/plain": [
       "4789967"
      ]
     },
     "execution_count": 13,
     "metadata": {},
     "output_type": "execute_result"
    }
   ],
   "source": [
    "f = open(\"27-A.txt\")\n",
    "n = int(f.read)\n",
    "k = 30\n",
    "s = 0\n",
    "maxx = float(\"-inf\")\n",
    "for i in range(len(arr) - 1):\n",
    "    s = 0\n",
    "    count = 0\n",
    "    for j in range(i + 1, len(arr)):\n",
    "        s += arr[j]\n",
    "        if arr[j] > 0 and arr[j] % 2 == 0:\n",
    "            count += 1\n",
    "        if s % k:\n",
    "            maxx = max(s, maxx)\n",
    "maxx"
   ]
  },
  {
   "cell_type": "code",
   "execution_count": null,
   "id": "7c0119ea",
   "metadata": {},
   "outputs": [],
   "source": []
  }
 ],
 "metadata": {
  "kernelspec": {
   "display_name": "Python 3 (ipykernel)",
   "language": "python",
   "name": "python3"
  },
  "language_info": {
   "codemirror_mode": {
    "name": "ipython",
    "version": 3
   },
   "file_extension": ".py",
   "mimetype": "text/x-python",
   "name": "python",
   "nbconvert_exporter": "python",
   "pygments_lexer": "ipython3",
   "version": "3.10.2"
  }
 },
 "nbformat": 4,
 "nbformat_minor": 5
}
