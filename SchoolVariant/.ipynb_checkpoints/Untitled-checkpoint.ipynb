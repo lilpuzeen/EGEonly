{
 "cells": [
  {
   "cell_type": "code",
   "execution_count": null,
   "id": "2fc5d702",
   "metadata": {},
   "outputs": [],
   "source": [
    "# (a → b) ∧ ((a ∧ b) → ¬c)\n",
    "print('a b c')\n",
    "for a in range(2):\n",
    "    for b in range(2):\n",
    "        for c in range(2):\n",
    "            if not((a <= b) and ((a and b) <= (not c))):\n",
    "                print(a, b, c)\n",
    "#cba"
   ]
  },
  {
   "cell_type": "code",
   "execution_count": null,
   "id": "1d432319",
   "metadata": {},
   "outputs": [],
   "source": [
    "for i in range(500):\n",
    "    n = bin(i)[2:]\n",
    "    n = n[::-1]\n",
    "    n = bin(int(n, 2))[2:]\n",
    "    if int(n, 2) == 13:\n",
    "        print(i)"
   ]
  },
  {
   "cell_type": "code",
   "execution_count": null,
   "id": "6110696c",
   "metadata": {},
   "outputs": [],
   "source": [
    "n = bin(10)[2:]\n",
    "print(n)\n",
    "n = n[::-1]\n",
    "n = bin(int(n, 2))[2:]\n",
    "n"
   ]
  },
  {
   "cell_type": "code",
   "execution_count": null,
   "id": "e6356f1c",
   "metadata": {},
   "outputs": [],
   "source": [
    "for i in range(1000):\n",
    "    x = i\n",
    "    a = 1\n",
    "    b = a\n",
    "    while a < x:\n",
    "        c = a + b\n",
    "        a = b\n",
    "        b = c\n",
    "    if b == 55:\n",
    "        print(i)\n",
    "        break"
   ]
  },
  {
   "cell_type": "code",
   "execution_count": null,
   "id": "68152232",
   "metadata": {},
   "outputs": [],
   "source": [
    "a = 2**51 + 2**40 + 2**35 + 2**17 - 2**5\n",
    "print(hex(a)[2:])\n",
    "set(hex(a)[2:])"
   ]
  },
  {
   "cell_type": "code",
   "execution_count": null,
   "id": "fcfb9be6",
   "metadata": {},
   "outputs": [],
   "source": [
    "import math\n",
    "math.gcd(44, 33)"
   ]
  },
  {
   "cell_type": "code",
   "execution_count": null,
   "id": "ddcbcb82",
   "metadata": {},
   "outputs": [],
   "source": [
    "def dell(n, m):\n",
    "    return n % m == 0\n",
    "\n",
    "\n",
    "a = 1\n",
    "while True:\n",
    "    for x in range(1, 10000):\n",
    "        if not((dell(a, 35)) and ((dell(730, x)) <= ((not(dell(a, x))) <= (not(dell(110, x)))))):\n",
    "            break\n",
    "    else:\n",
    "        print(a)\n",
    "    a += 1"
   ]
  },
  {
   "cell_type": "code",
   "execution_count": null,
   "id": "820d593a",
   "metadata": {},
   "outputs": [],
   "source": [
    "def f(n):\n",
    "    if n <= 3:\n",
    "        return n\n",
    "    if n > 3:\n",
    "        if n % 2 == 0:\n",
    "            return n + 3 + f(n - 1)\n",
    "        elif n % 2 != 0:\n",
    "            return n*n + f(n-2)\n",
    "\n",
    "count = 0\n",
    "for i in range(1, 1000+1):\n",
    "    if f(i) % 7 == 0:\n",
    "        count += 1\n",
    "count"
   ]
  },
  {
   "cell_type": "code",
   "execution_count": null,
   "id": "08785117",
   "metadata": {},
   "outputs": [],
   "source": [
    "arr = [int(x) for x in open(\"17.txt\").readlines()]\n",
    "min_num = min(arr)\n",
    "count = 0\n",
    "ind = 0\n",
    "for i in range(len(arr)):\n",
    "    if arr[i] == min_num:\n",
    "        count += 1\n",
    "        if i >= ind:\n",
    "            ind = i\n",
    "count, ind"
   ]
  },
  {
   "cell_type": "code",
   "execution_count": 5,
   "id": "fb37dd2d",
   "metadata": {},
   "outputs": [
    {
     "name": "stdout",
     "output_type": "stream",
     "text": [
      "7 P2\n",
      "19 B1/2\n",
      "20 P2\n",
      "21 B1\n",
      "22 P1\n",
      "23 P1\n",
      "24 P1\n",
      "25 P1\n",
      "26 P1\n",
      "27 P1\n",
      "28 P1\n",
      "29 P1\n",
      "30 P1\n",
      "31 P1\n",
      "32 P1\n",
      "33 P1\n",
      "34 P1\n",
      "35 P1\n",
      "36 P1\n",
      "37 P1\n",
      "38 P1\n",
      "39 P1\n",
      "40 P1\n",
      "41 P1\n",
      "42 P1\n",
      "43 P1\n",
      "44 P1\n",
      "45 P1\n",
      "46 P1\n",
      "47 P1\n",
      "48 P1\n",
      "49 P1\n",
      "50 P1\n",
      "51 P1\n",
      "52 P1\n",
      "53 P1\n",
      "54 P1\n",
      "55 P1\n",
      "56 P1\n",
      "57 P1\n",
      "58 P1\n",
      "59 P1\n",
      "60 P1\n",
      "61 P1\n",
      "62 P1\n",
      "63 P1\n",
      "64 P1\n"
     ]
    }
   ],
   "source": [
    "from functools import lru_cache\n",
    "\n",
    "\n",
    "def moves(h):\n",
    "    return (h + 1), (h * 3)\n",
    "\n",
    "\n",
    "@lru_cache(None)\n",
    "def game(h):\n",
    "    if h >= 65:\n",
    "        return \"W\"\n",
    "    if any(game(m) == \"W\" for m in moves(h)):\n",
    "        return \"P1\"\n",
    "    if all(game(m) == \"P1\" for m in moves(h)):  # менять на ANY для 19 номера\n",
    "        return \"B1\"\n",
    "    if any(game(m) == \"B1\" for m in moves(h)):\n",
    "        return \"P2\"\n",
    "    if all(game(m) == \"P1\" or game(m) == \"P2\" for m in moves(h)):\n",
    "        return \"B2\"\n",
    "\n",
    "\n",
    "for s in range(1, 65):\n",
    "    if game(s) is not None:\n",
    "        print(s, game(s))"
   ]
  },
  {
   "cell_type": "code",
   "execution_count": null,
   "id": "370d284b",
   "metadata": {},
   "outputs": [],
   "source": [
    "count = 0\n",
    "for i in range(10000):\n",
    "    x = i\n",
    "    a = 0\n",
    "    b = 0\n",
    "    while x > 0:\n",
    "        a = a + 1\n",
    "        b = b + (x % 10)\n",
    "        x = x // 10\n",
    "    if a == 2 and b == 12:\n",
    "        count += 1\n",
    "count"
   ]
  },
  {
   "cell_type": "code",
   "execution_count": null,
   "id": "ae298275",
   "metadata": {},
   "outputs": [],
   "source": [
    "def tr(start, finish):\n",
    "    if start > finish:\n",
    "        return 0\n",
    "    if start == finish:\n",
    "        return 1\n",
    "    return tr(start + 3, finish) + tr(start * 3, finish)\n",
    "\n",
    "tr(5, 27)"
   ]
  },
  {
   "cell_type": "code",
   "execution_count": null,
   "id": "d7079e2f",
   "metadata": {},
   "outputs": [],
   "source": [
    "f = open(\"24.txt\").readline()\n",
    "f.count(\"KOT\")"
   ]
  },
  {
   "cell_type": "code",
   "execution_count": 4,
   "id": "4cf8f666",
   "metadata": {},
   "outputs": [
    {
     "name": "stdout",
     "output_type": "stream",
     "text": [
      "[271, 1249]\n",
      "[2, 169241]\n",
      "[59, 5737]\n",
      "[2, 169243]\n",
      "[23, 14717]\n",
      "[3, 112831]\n"
     ]
    }
   ],
   "source": [
    "def div(x):\n",
    "    d = set()\n",
    "    for i in range(2, int(x**0.5) + 1):\n",
    "        if x % i == 0:\n",
    "            d |= {i, x // i}\n",
    "    return sorted(d)\n",
    "\n",
    "\n",
    "for i in range(338472, 338494 + 1):\n",
    "    if len(div(i)) + 2 == 4:\n",
    "        print(div(i))"
   ]
  },
  {
   "cell_type": "code",
   "execution_count": null,
   "id": "8228b66d",
   "metadata": {},
   "outputs": [],
   "source": [
    "from itertools import *\n",
    "m = 0\n",
    "p = 0\n",
    "for i in range(2,5):\n",
    "    n = 0\n",
    "    word = product('ИА',repeat=i ## i -это кол-во символов в слове\n",
    "    for letter in word:\n",
    "        if letter.count('И') <3 and letter.count('А') <3:\n",
    "            n += 1\n",
    "        if i !=2:\n",
    "            p +=n\n",
    "            m+=n*2\n",
    "print(m+p)"
   ]
  },
  {
   "cell_type": "code",
   "execution_count": null,
   "id": "41d1c5c4",
   "metadata": {},
   "outputs": [],
   "source": [
    "12 * 50"
   ]
  },
  {
   "cell_type": "code",
   "execution_count": null,
   "id": "ef45406e",
   "metadata": {
    "scrolled": false
   },
   "outputs": [],
   "source": [
    "f = open(\"26.txt\")\n",
    "disk, quantity = [int(x) for x in f.readline().split()]\n",
    "quantity -= 1\n",
    "arr = sorted([int(x) for x in f.readlines()])\n",
    "count = 0\n",
    "s = 0\n",
    "for i in range(quantity+1):\n",
    "    s += arr[i] + arr[quantity - i]\n",
    "    count += 2\n",
    "    if s > disk:\n",
    "        print(f\"Кол-во итераций: {i}, Сумма объемов: {s}, Файл min: {arr[i]}, Файл max: {arr[quantity - i]}, Файл min-1: {arr[i - 1]}, Файл max-1: {arr[quantity - i - 1]}\")"
   ]
  },
  {
   "cell_type": "code",
   "execution_count": null,
   "id": "b4b9bd72",
   "metadata": {},
   "outputs": [],
   "source": [
    "99743 + 229"
   ]
  },
  {
   "cell_type": "code",
   "execution_count": null,
   "id": "1070b228",
   "metadata": {},
   "outputs": [],
   "source": [
    "285*2"
   ]
  },
  {
   "cell_type": "code",
   "execution_count": 2,
   "id": "aa42d912",
   "metadata": {},
   "outputs": [
    {
     "name": "stdout",
     "output_type": "stream",
     "text": [
      "5036375\n"
     ]
    }
   ],
   "source": [
    "from itertools import product\n",
    "f = open(\"27-B.txt\")\n",
    "n = int(f.readline())\n",
    "m = [float(\"-inf\")] * 100\n",
    "\n",
    "for _ in range(n):\n",
    "    x = int(f.readline())\n",
    "    m_new = m.copy()\n",
    "    for i in range(100):\n",
    "        m_new[(x + i)%100] = max(m_new[(x+i)%25], x+m[i])\n",
    "    m_new[x%100] = max(m_new[x%100], x)\n",
    "    m = m_new\n",
    "    \n",
    "    for i in range(100): m[i] = max(m[i], m_new[i])\n",
    "print(m[0])"
   ]
  },
  {
   "cell_type": "code",
   "execution_count": null,
   "id": "5e4b1963",
   "metadata": {},
   "outputs": [],
   "source": []
  },
  {
   "cell_type": "code",
   "execution_count": null,
   "id": "aaad0992",
   "metadata": {},
   "outputs": [],
   "source": []
  }
 ],
 "metadata": {
  "kernelspec": {
   "display_name": "Python 3 (ipykernel)",
   "language": "python",
   "name": "python3"
  },
  "language_info": {
   "codemirror_mode": {
    "name": "ipython",
    "version": 3
   },
   "file_extension": ".py",
   "mimetype": "text/x-python",
   "name": "python",
   "nbconvert_exporter": "python",
   "pygments_lexer": "ipython3",
   "version": "3.10.2"
  }
 },
 "nbformat": 4,
 "nbformat_minor": 5
}
